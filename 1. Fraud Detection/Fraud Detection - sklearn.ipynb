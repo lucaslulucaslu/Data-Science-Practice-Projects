{
 "cells": [
  {
   "cell_type": "code",
   "execution_count": 1,
   "id": "dfbf10e5-cbb9-49ad-8c26-ea44bafbf6cd",
   "metadata": {},
   "outputs": [],
   "source": [
    "import pandas as pd\n",
    "import numpy as np\n",
    "import matplotlib.pyplot as plt\n",
    "from sklearn.model_selection import train_test_split\n",
    "from sklearn.tree import DecisionTreeClassifier\n",
    "#from sklearn.ensemble import RandomForestClassifier too slow for large datasets\n",
    "from sklearn.metrics import accuracy_score,confusion_matrix\n",
    "from xgboost import XGBClassifier"
   ]
  },
  {
   "cell_type": "code",
   "execution_count": 2,
   "id": "722ccb19-cf19-411f-882e-95a69191fc52",
   "metadata": {},
   "outputs": [],
   "source": [
    "raw_data=pd.read_csv('..\\\\datasets\\\\Fraud-Detection\\\\FraudDetection.csv')\n",
    "#dataset url https://www.kaggle.com/datasets/ealaxi/paysim1\n",
    "#Synthetic Financial Datasets For Fraud Detection"
   ]
  },
  {
   "cell_type": "code",
   "execution_count": 3,
   "id": "f6157502-53d3-41e2-92de-fc2354cce083",
   "metadata": {},
   "outputs": [],
   "source": [
    "data=raw_data.copy()"
   ]
  },
  {
   "cell_type": "code",
   "execution_count": 4,
   "id": "7b44b17b-3d7b-4deb-8b64-76f2c9f48770",
   "metadata": {},
   "outputs": [
    {
     "data": {
      "text/plain": [
       "step              0\n",
       "type              0\n",
       "amount            0\n",
       "nameOrig          0\n",
       "oldbalanceOrg     0\n",
       "newbalanceOrig    0\n",
       "nameDest          0\n",
       "oldbalanceDest    0\n",
       "newbalanceDest    0\n",
       "isFraud           0\n",
       "isFlaggedFraud    0\n",
       "dtype: int64"
      ]
     },
     "execution_count": 4,
     "metadata": {},
     "output_type": "execute_result"
    }
   ],
   "source": [
    "raw_data.isnull().sum() #check if there is any NULL value in the dataset"
   ]
  },
  {
   "cell_type": "code",
   "execution_count": 5,
   "id": "00db87e1-693b-4d11-ba96-fcbe43448a3f",
   "metadata": {},
   "outputs": [
    {
     "data": {
      "text/plain": [
       "([<matplotlib.patches.Wedge at 0x1bca4e9d240>,\n",
       "  <matplotlib.patches.Wedge at 0x1bca4e9d180>,\n",
       "  <matplotlib.patches.Wedge at 0x1bca4e9db10>,\n",
       "  <matplotlib.patches.Wedge at 0x1bc8c9f5f90>,\n",
       "  <matplotlib.patches.Wedge at 0x1bca4e9e2f0>],\n",
       " [Text(0.49426122663384003, 0.9827033325711335, 'CASH_OUT'),\n",
       "  Text(-1.0906766219942048, -0.1429143318051433, 'PAYMENT'),\n",
       "  Text(0.3384112332518691, -1.046650771369777, 'CASH_IN'),\n",
       "  Text(1.0495474656709025, -0.3293176541028222, 'TRANSFER'),\n",
       "  Text(1.0997698357971, -0.022501294869852733, 'DEBIT')])"
      ]
     },
     "execution_count": 5,
     "metadata": {},
     "output_type": "execute_result"
    },
    {
     "data": {
      "image/png": "[encoded data removed]",
      "text/plain": [
       "<Figure size 640x480 with 1 Axes>"
      ]
     },
     "metadata": {},
     "output_type": "display_data"
    }
   ],
   "source": [
    "type=raw_data['type'].value_counts()\n",
    "typeLabels=type.index\n",
    "typeNumbers=type.values\n",
    "\n",
    "fig,ax=plt.subplots()\n",
    "ax.pie(typeNumbers,labels=typeLabels)\n",
    "#check transcation types and plot in pie chart for visualization"
   ]
  },
  {
   "cell_type": "code",
   "execution_count": 6,
   "id": "d882413f-c65b-4100-8b6e-6245f15f4c18",
   "metadata": {},
   "outputs": [
    {
     "name": "stdout",
     "output_type": "stream",
     "text": [
      "isFraud           1.000000\n",
      "amount            0.076688\n",
      "isFlaggedFraud    0.044109\n",
      "step              0.031578\n",
      "oldbalanceOrg     0.010154\n",
      "newbalanceDest    0.000535\n",
      "oldbalanceDest   -0.005885\n",
      "newbalanceOrig   -0.008148\n",
      "Name: isFraud, dtype: float64\n"
     ]
    }
   ],
   "source": [
    "correlation=raw_data.corr(numeric_only=True)\n",
    "print(correlation['isFraud'].sort_values(ascending=False))\n",
    "#check correlation for features, print out correlation with isFraud column to see which column is most related to fraud, turns out to be the amount"
   ]
  },
  {
   "cell_type": "code",
   "execution_count": 7,
   "id": "ca77ef05-170b-4a71-a1e2-acc71ead8263",
   "metadata": {},
   "outputs": [],
   "source": [
    "data['type']=data['type'].map({\n",
    "    'CASH_OUT':1,\n",
    "    'PAYMENT':2,\n",
    "    'CASH_IN':3,\n",
    "    'TRANSFER':4,\n",
    "    'DEBIT':5\n",
    "})"
   ]
  },
  {
   "cell_type": "code",
   "execution_count": null,
   "id": "e8d26aa2-581f-4396-88ce-bb9c638db667",
   "metadata": {},
   "outputs": [],
   "source": [
    "data['isFraud']=data['isFraud'].map({0:'Not Fraud',1:'Fraud'})\n",
    "#map categorical column with numerical numbers, also map isFruad column just for easy identify"
   ]
  },
  {
   "cell_type": "code",
   "execution_count": 12,
   "id": "b8e162c2-e2c6-4ad1-b819-da217e377c0a",
   "metadata": {},
   "outputs": [
    {
     "data": {
      "text/plain": [
       "0.0012924888191769902"
      ]
     },
     "execution_count": 12,
     "metadata": {},
     "output_type": "execute_result"
    }
   ],
   "source": [
    "data[data['isFraud']=='Fraud'].shape[0]/data[data['isFraud']=='Not Fraud'].shape[0]\n",
    "#check percentage of fraud transcations to non-fraud transactions, the dataset is quite unbalanced"
   ]
  },
  {
   "cell_type": "code",
   "execution_count": 8,
   "id": "319c2d1a-f39c-459d-a484-d3fc23e9094c",
   "metadata": {},
   "outputs": [],
   "source": [
    "x=np.array(data[['type','amount','oldbalanceOrg','newbalanceOrig']])\n",
    "y=np.array(data[['isFraud']])\n",
    "#only pick 4 most correlated columns"
   ]
  },
  {
   "cell_type": "code",
   "execution_count": 9,
   "id": "92a84054-8f3d-48f3-b0c9-fc70f841fb16",
   "metadata": {},
   "outputs": [],
   "source": [
    "xtrain,xtest,ytrain,ytest=train_test_split(x,y,test_size=0.1,random_state=365)"
   ]
  },
  {
   "cell_type": "code",
   "execution_count": 11,
   "id": "527de002-7d63-4942-bc7a-4293944d298a",
   "metadata": {},
   "outputs": [
    {
     "name": "stdout",
     "output_type": "stream",
     "text": [
      "0.9997422445470576\n"
     ]
    }
   ],
   "source": [
    "model=DecisionTreeClassifier()\n",
    "model.fit(xtrain,ytrain)\n",
    "print(model.score(xtest,ytest))"
   ]
  },
  {
   "cell_type": "code",
   "execution_count": 19,
   "id": "0a85ab58-74c1-42aa-b9ec-6cd92b6cfe1c",
   "metadata": {},
   "outputs": [
    {
     "name": "stdout",
     "output_type": "stream",
     "text": [
      "0.999578789869582\n"
     ]
    }
   ],
   "source": [
    "xgb=XGBClassifier()\n",
    "xgb.fit(xtrain,ytrain)\n",
    "print(xgb.score(xtest,ytest))"
   ]
  },
  {
   "cell_type": "code",
   "execution_count": 21,
   "id": "09b3427a-e401-4323-b231-8b16d145eaf3",
   "metadata": {},
   "outputs": [
    {
     "name": "stdout",
     "output_type": "stream",
     "text": [
      "0.9997422445470576\n",
      "[[635359     87]\n",
      " [    77    739]]\n"
     ]
    }
   ],
   "source": [
    "ypred=model.predict(xtest)\n",
    "#make prediction on xtest data\n",
    "print(accuracy_score(ytest,ypred))\n",
    "print(confusion_matrix(ytest,ypred))"
   ]
  },
  {
   "cell_type": "code",
   "execution_count": 20,
   "id": "c07a34e5-5237-4f70-bfac-af7b7cd9b3f1",
   "metadata": {},
   "outputs": [
    {
     "name": "stdout",
     "output_type": "stream",
     "text": [
      "0.999578789869582\n",
      "[[635373     73]\n",
      " [   195    621]]\n"
     ]
    }
   ],
   "source": [
    "ypred=xgb.predict(xtest)\n",
    "#make prediction on xtest data\n",
    "print(accuracy_score(ytest,ypred))\n",
    "print(confusion_matrix(ytest,ypred))"
   ]
  },
  {
   "cell_type": "code",
   "execution_count": 15,
   "id": "dd593d68-3ed7-422f-a7a5-23fb656bf646",
   "metadata": {},
   "outputs": [
    {
     "name": "stdout",
     "output_type": "stream",
     "text": [
      "Percision is :  0.8948004836759371\n",
      "Specificity is :  0.9998630882875964\n",
      "Recall is :  0.9068627450980392\n"
     ]
    }
   ],
   "source": [
    "#precision=TP/(TP+FP)\n",
    "TP=confusion_matrix(ytest,ypred)[0][0] #True Positive\n",
    "FP=confusion_matrix(ytest,ypred)[1][0] #False Positive\n",
    "FN=confusion_matrix(ytest,ypred)[0][1] #False Negative\n",
    "TN=confusion_matrix(ytest,ypred)[1][1] #True Negative\n",
    "\n",
    "print(\"Percision is : \",TP/(TP+FP))\n",
    "print(\"Specificity is : \",TN/(FP+TN))\n",
    "print(\"Recall is : \",TP/(TP+FN))"
   ]
  },
  {
   "cell_type": "markdown",
   "id": "de6b7434-9919-4c95-9119-72b1929036c3",
   "metadata": {},
   "source": [
    "Anything we can do to improve accuracy?"
   ]
  },
  {
   "cell_type": "code",
   "execution_count": 16,
   "id": "42e6f79c-04d3-4ec8-a175-9865e5772be1",
   "metadata": {},
   "outputs": [],
   "source": [
    "from sklearn import preprocessing"
   ]
  },
  {
   "cell_type": "code",
   "execution_count": 17,
   "id": "bba44f37-1c7a-4221-abc4-6a3253b4dd0d",
   "metadata": {},
   "outputs": [
    {
     "name": "stderr",
     "output_type": "stream",
     "text": [
      "C:\\Users\\shich\\anaconda3\\envs\\datascience\\lib\\site-packages\\sklearn\\preprocessing\\_data.py:247: UserWarning: Numerical issues were encountered when centering the data and might not be solved. Dataset may contain too large values. You may need to prescale your features.\n",
      "  warnings.warn(\n",
      "C:\\Users\\shich\\anaconda3\\envs\\datascience\\lib\\site-packages\\sklearn\\preprocessing\\_data.py:247: UserWarning: Numerical issues were encountered when centering the data and might not be solved. Dataset may contain too large values. You may need to prescale your features.\n",
      "  warnings.warn(\n"
     ]
    }
   ],
   "source": [
    "xtrain_std=preprocessing.scale(xtrain[:,1:])\n",
    "xtrain_std=np.append(xtrain[:,0:1],xtrain_std,axis=1)\n",
    "xtest_std=preprocessing.scale(xtest[:,1:])\n",
    "xtest_std=np.append(xtest[:,0:1],xtest_std,axis=1)"
   ]
  },
  {
   "cell_type": "code",
   "execution_count": 18,
   "id": "c1fb1d38-c599-468c-973b-a1f0466409c4",
   "metadata": {},
   "outputs": [
    {
     "name": "stdout",
     "output_type": "stream",
     "text": [
      "0.28854779949140447\n"
     ]
    }
   ],
   "source": [
    "print(model.score(xtest_std,ytest))"
   ]
  },
  {
   "cell_type": "code",
   "execution_count": 19,
   "id": "79edf837-5b87-4991-8158-0c3a86bc5b18",
   "metadata": {},
   "outputs": [
    {
     "name": "stdout",
     "output_type": "stream",
     "text": [
      "[[   269    547]\n",
      " [452123 183323]]\n"
     ]
    }
   ],
   "source": [
    "ypred=model.predict(xtest_std)\n",
    "print(confusion_matrix(ytest,ypred))"
   ]
  },
  {
   "cell_type": "markdown",
   "id": "3a59d3ef-8b23-4cb6-b3c9-da1d9cacf7c3",
   "metadata": {},
   "source": [
    "standardize does not help improve accuracy which makes sense because the fraud is related to absolute number of the transaction amount instead of relative number, also, decision tree algorithm does not require scale or standardize data. next I am going to try balance the dataset a little bit"
   ]
  },
  {
   "cell_type": "code",
   "execution_count": 20,
   "id": "ed2048db-2432-4ca5-9187-dfa4798a9365",
   "metadata": {},
   "outputs": [],
   "source": [
    "num_fraud=y[y=='Fraud'].shape[0]"
   ]
  },
  {
   "cell_type": "code",
   "execution_count": 21,
   "id": "2a524888-dd01-4db8-8e1e-829dd1fa608c",
   "metadata": {},
   "outputs": [],
   "source": [
    "not_fraud_counter=0\n",
    "indices_to_remove=[]\n",
    "for i in range(x.shape[0]):\n",
    "    if y[i]=='Not Fraud':\n",
    "        not_fraud_counter+=1\n",
    "        if not_fraud_counter>num_fraud:\n",
    "            indices_to_remove.append(i)\n",
    "x_balanced=np.delete(x,indices_to_remove,axis=0)\n",
    "y_balanced=np.delete(y,indices_to_remove,axis=0)"
   ]
  },
  {
   "cell_type": "code",
   "execution_count": 22,
   "id": "d599823a-2130-4624-b79b-3bf3c69a85e5",
   "metadata": {},
   "outputs": [
    {
     "data": {
      "text/plain": [
       "(16426, 4)"
      ]
     },
     "execution_count": 22,
     "metadata": {},
     "output_type": "execute_result"
    }
   ],
   "source": [
    "x_balanced.shape"
   ]
  },
  {
   "cell_type": "code",
   "execution_count": 23,
   "id": "2a16a978-69f7-42d2-b35b-edca67bc6668",
   "metadata": {},
   "outputs": [],
   "source": [
    "xtrain,xtest,ytrain,ytest=train_test_split(x_balanced,y_balanced,test_size=0.1,random_state=365)"
   ]
  },
  {
   "cell_type": "code",
   "execution_count": 24,
   "id": "58020c8b-7980-4c50-90ec-ad3e03f26ccb",
   "metadata": {},
   "outputs": [
    {
     "data": {
      "text/html": [
       "<style>#sk-container-id-1 {color: black;}#sk-container-id-1 pre{padding: 0;}#sk-container-id-1 div.sk-toggleable {background-color: white;}#sk-container-id-1 label.sk-toggleable__label {cursor: pointer;display: block;width: 100%;margin-bottom: 0;padding: 0.3em;box-sizing: border-box;text-align: center;}#sk-container-id-1 label.sk-toggleable__label-arrow:before {content: \"▸\";float: left;margin-right: 0.25em;color: #696969;}#sk-container-id-1 label.sk-toggleable__label-arrow:hover:before {color: black;}#sk-container-id-1 div.sk-estimator:hover label.sk-toggleable__label-arrow:before {color: black;}#sk-container-id-1 div.sk-toggleable__content {max-height: 0;max-width: 0;overflow: hidden;text-align: left;background-color: #f0f8ff;}#sk-container-id-1 div.sk-toggleable__content pre {margin: 0.2em;color: black;border-radius: 0.25em;background-color: #f0f8ff;}#sk-container-id-1 input.sk-toggleable__control:checked~div.sk-toggleable__content {max-height: 200px;max-width: 100%;overflow: auto;}#sk-container-id-1 input.sk-toggleable__control:checked~label.sk-toggleable__label-arrow:before {content: \"▾\";}#sk-container-id-1 div.sk-estimator input.sk-toggleable__control:checked~label.sk-toggleable__label {background-color: #d4ebff;}#sk-container-id-1 div.sk-label input.sk-toggleable__control:checked~label.sk-toggleable__label {background-color: #d4ebff;}#sk-container-id-1 input.sk-hidden--visually {border: 0;clip: rect(1px 1px 1px 1px);clip: rect(1px, 1px, 1px, 1px);height: 1px;margin: -1px;overflow: hidden;padding: 0;position: absolute;width: 1px;}#sk-container-id-1 div.sk-estimator {font-family: monospace;background-color: #f0f8ff;border: 1px dotted black;border-radius: 0.25em;box-sizing: border-box;margin-bottom: 0.5em;}#sk-container-id-1 div.sk-estimator:hover {background-color: #d4ebff;}#sk-container-id-1 div.sk-parallel-item::after {content: \"\";width: 100%;border-bottom: 1px solid gray;flex-grow: 1;}#sk-container-id-1 div.sk-label:hover label.sk-toggleable__label {background-color: #d4ebff;}#sk-container-id-1 div.sk-serial::before {content: \"\";position: absolute;border-left: 1px solid gray;box-sizing: border-box;top: 0;bottom: 0;left: 50%;z-index: 0;}#sk-container-id-1 div.sk-serial {display: flex;flex-direction: column;align-items: center;background-color: white;padding-right: 0.2em;padding-left: 0.2em;position: relative;}#sk-container-id-1 div.sk-item {position: relative;z-index: 1;}#sk-container-id-1 div.sk-parallel {display: flex;align-items: stretch;justify-content: center;background-color: white;position: relative;}#sk-container-id-1 div.sk-item::before, #sk-container-id-1 div.sk-parallel-item::before {content: \"\";position: absolute;border-left: 1px solid gray;box-sizing: border-box;top: 0;bottom: 0;left: 50%;z-index: -1;}#sk-container-id-1 div.sk-parallel-item {display: flex;flex-direction: column;z-index: 1;position: relative;background-color: white;}#sk-container-id-1 div.sk-parallel-item:first-child::after {align-self: flex-end;width: 50%;}#sk-container-id-1 div.sk-parallel-item:last-child::after {align-self: flex-start;width: 50%;}#sk-container-id-1 div.sk-parallel-item:only-child::after {width: 0;}#sk-container-id-1 div.sk-dashed-wrapped {border: 1px dashed gray;margin: 0 0.4em 0.5em 0.4em;box-sizing: border-box;padding-bottom: 0.4em;background-color: white;}#sk-container-id-1 div.sk-label label {font-family: monospace;font-weight: bold;display: inline-block;line-height: 1.2em;}#sk-container-id-1 div.sk-label-container {text-align: center;}#sk-container-id-1 div.sk-container {/* jupyter's `normalize.less` sets `[hidden] { display: none; }` but bootstrap.min.css set `[hidden] { display: none !important; }` so we also need the `!important` here to be able to override the default hidden behavior on the sphinx rendered scikit-learn.org. See: https://github.com/scikit-learn/scikit-learn/issues/21755 */display: inline-block !important;position: relative;}#sk-container-id-1 div.sk-text-repr-fallback {display: none;}</style><div id=\"sk-container-id-1\" class=\"sk-top-container\"><div class=\"sk-text-repr-fallback\"><pre>DecisionTreeClassifier()</pre><b>In a Jupyter environment, please rerun this cell to show the HTML representation or trust the notebook. <br />On GitHub, the HTML representation is unable to render, please try loading this page with nbviewer.org.</b></div><div class=\"sk-container\" hidden><div class=\"sk-item\"><div class=\"sk-estimator sk-toggleable\"><input class=\"sk-toggleable__control sk-hidden--visually\" id=\"sk-estimator-id-1\" type=\"checkbox\" checked><label for=\"sk-estimator-id-1\" class=\"sk-toggleable__label sk-toggleable__label-arrow\">DecisionTreeClassifier</label><div class=\"sk-toggleable__content\"><pre>DecisionTreeClassifier()</pre></div></div></div></div></div>"
      ],
      "text/plain": [
       "DecisionTreeClassifier()"
      ]
     },
     "execution_count": 24,
     "metadata": {},
     "output_type": "execute_result"
    }
   ],
   "source": [
    "model.fit(xtrain,ytrain)"
   ]
  },
  {
   "cell_type": "code",
   "execution_count": 25,
   "id": "8efcc72e-a4d1-4ef5-9bf7-946220817a9e",
   "metadata": {},
   "outputs": [
    {
     "name": "stdout",
     "output_type": "stream",
     "text": [
      "0.995739500912964\n",
      "[[810   3]\n",
      " [  4 826]]\n"
     ]
    }
   ],
   "source": [
    "ypred=model.predict(xtest)\n",
    "print(accuracy_score(ytest,ypred))\n",
    "print(confusion_matrix(ytest,ypred))"
   ]
  },
  {
   "cell_type": "code",
   "execution_count": 26,
   "id": "af34bda6-177c-4846-ab57-f0510708312c",
   "metadata": {},
   "outputs": [
    {
     "name": "stdout",
     "output_type": "stream",
     "text": [
      "Percision is :  0.995085995085995\n",
      "Specificity is :  0.9951807228915662\n",
      "Recall is :  0.996309963099631\n"
     ]
    }
   ],
   "source": [
    "#precision=TP/(TP+FP)\n",
    "TP=confusion_matrix(ytest,ypred)[0][0] #True Positive\n",
    "FP=confusion_matrix(ytest,ypred)[1][0] #False Positive\n",
    "FN=confusion_matrix(ytest,ypred)[0][1] #False Negative\n",
    "TN=confusion_matrix(ytest,ypred)[1][1] #True Negative\n",
    "\n",
    "print(\"Percision is : \",TP/(TP+FP))\n",
    "print(\"Specificity is : \",TN/(FP+TN))\n",
    "print(\"Recall is : \",TP/(TP+FN))"
   ]
  },
  {
   "cell_type": "markdown",
   "id": "5d7d4218-f43b-4f38-ae80-6f67d8bbfb3a",
   "metadata": {},
   "source": [
    "As we can see here, balance dataset helps improve overall performance a lot, the percision rate is increased from 89.5% to 99.5%, this is related to not only more balanced data, but also related to simpler decision tree. Next I am going to change to LogisticRegression model to see which one is better"
   ]
  },
  {
   "cell_type": "code",
   "execution_count": 27,
   "id": "2810bd27-5427-49d8-87ce-435d79ea1af2",
   "metadata": {},
   "outputs": [],
   "source": [
    "from sklearn.linear_model import LogisticRegression"
   ]
  },
  {
   "cell_type": "code",
   "execution_count": 42,
   "id": "24dd53ac-f470-457d-98ae-9ab014b2ac9e",
   "metadata": {},
   "outputs": [
    {
     "name": "stderr",
     "output_type": "stream",
     "text": [
      "C:\\Users\\shich\\anaconda3\\envs\\datascience\\lib\\site-packages\\sklearn\\utils\\validation.py:1184: DataConversionWarning: A column-vector y was passed when a 1d array was expected. Please change the shape of y to (n_samples, ), for example using ravel().\n",
      "  y = column_or_1d(y, warn=True)\n"
     ]
    },
    {
     "name": "stdout",
     "output_type": "stream",
     "text": [
      "0.9995206377247109\n"
     ]
    }
   ],
   "source": [
    "xtrain,xtest,ytrain,ytest=train_test_split(x,y,test_size=0.1,random_state=365)\n",
    "linearModel=LogisticRegression()\n",
    "linearModel.fit(xtrain,ytrain)\n",
    "print(linearModel.score(xtest,ytest))"
   ]
  },
  {
   "cell_type": "code",
   "execution_count": 43,
   "id": "93e0f58c-e42b-4969-9215-661928e53c5e",
   "metadata": {},
   "outputs": [
    {
     "name": "stdout",
     "output_type": "stream",
     "text": [
      "0.9995206377247109\n",
      "[[   800     16]\n",
      " [   289 635157]]\n"
     ]
    }
   ],
   "source": [
    "ypred=linearModel.predict(xtest)\n",
    "print(accuracy_score(ytest,ypred))\n",
    "print(confusion_matrix(ytest,ypred))"
   ]
  },
  {
   "cell_type": "code",
   "execution_count": 37,
   "id": "80c2acbb-f438-41b3-8787-515210a59a91",
   "metadata": {},
   "outputs": [
    {
     "name": "stdout",
     "output_type": "stream",
     "text": [
      "Percision is :  0.7570093457943925\n",
      "Specificity is :  0.6867469879518072\n",
      "Recall/Sensitivity is :  0.996309963099631\n"
     ]
    }
   ],
   "source": [
    "#precision=TP/(TP+FP)\n",
    "TP=confusion_matrix(ytest,ypred)[0][0] #True Positive\n",
    "FP=confusion_matrix(ytest,ypred)[1][0] #False Positive\n",
    "FN=confusion_matrix(ytest,ypred)[0][1] #False Negative\n",
    "TN=confusion_matrix(ytest,ypred)[1][1] #True Negative\n",
    "\n",
    "print(\"Percision is : \",TP/(TP+FP))\n",
    "print(\"Specificity is : \",TN/(FP+TN))\n",
    "print(\"Recall/Sensitivity is : \",TP/(TP+FN))"
   ]
  },
  {
   "cell_type": "markdown",
   "id": "bbe1fdd2-9c0c-44e9-bdbf-451b0be55ac1",
   "metadata": {},
   "source": [
    "As we can see here, logistic regression pick Ture Positive (Fraud) quite well while lots of not Fraud is false alarmed, next we are going to balance the dataset"
   ]
  },
  {
   "cell_type": "code",
   "execution_count": 34,
   "id": "565fb488-bf13-4dd5-83d6-01e59a4dad6e",
   "metadata": {},
   "outputs": [],
   "source": [
    "xtrain,xtest,ytrain,ytest=train_test_split(x_balanced,y_balanced,test_size=0.1,random_state=365)"
   ]
  },
  {
   "cell_type": "code",
   "execution_count": 35,
   "id": "15c647a0-fb66-44a9-8aca-fc98faec5791",
   "metadata": {},
   "outputs": [
    {
     "name": "stdout",
     "output_type": "stream",
     "text": [
      "0.8399269628727937\n"
     ]
    },
    {
     "name": "stderr",
     "output_type": "stream",
     "text": [
      "C:\\Users\\shich\\anaconda3\\envs\\datascience\\lib\\site-packages\\sklearn\\utils\\validation.py:1184: DataConversionWarning: A column-vector y was passed when a 1d array was expected. Please change the shape of y to (n_samples, ), for example using ravel().\n",
      "  y = column_or_1d(y, warn=True)\n"
     ]
    }
   ],
   "source": [
    "linearModel.fit(xtrain,ytrain)\n",
    "print(linearModel.score(xtest,ytest))"
   ]
  },
  {
   "cell_type": "code",
   "execution_count": 36,
   "id": "7a5ddf8c-43f3-42d5-b746-33ccb1797acf",
   "metadata": {},
   "outputs": [
    {
     "name": "stdout",
     "output_type": "stream",
     "text": [
      "0.8399269628727937\n",
      "[[810   3]\n",
      " [260 570]]\n"
     ]
    }
   ],
   "source": [
    "ypred=linearModel.predict(xtest)\n",
    "print(accuracy_score(ytest,ypred))\n",
    "print(confusion_matrix(ytest,ypred))"
   ]
  },
  {
   "cell_type": "markdown",
   "id": "5fd4ab6d-3270-4e7d-a817-4587e6a9ef3b",
   "metadata": {},
   "source": [
    "Samet hing here, the algorithm identified most of the fraud, however lots of not-fraud are identified as fraud too."
   ]
  },
  {
   "cell_type": "code",
   "execution_count": null,
   "id": "77cfb843-5a9b-479d-858b-36535fbb5b2a",
   "metadata": {},
   "outputs": [],
   "source": []
  }
 ],
 "metadata": {
  "kernelspec": {
   "display_name": "Python 3 (ipykernel)",
   "language": "python",
   "name": "python3"
  },
  "language_info": {
   "codemirror_mode": {
    "name": "ipython",
    "version": 3
   },
   "file_extension": ".py",
   "mimetype": "text/x-python",
   "name": "python",
   "nbconvert_exporter": "python",
   "pygments_lexer": "ipython3",
   "version": "3.10.13"
  }
 },
 "nbformat": 4,
 "nbformat_minor": 5
}
