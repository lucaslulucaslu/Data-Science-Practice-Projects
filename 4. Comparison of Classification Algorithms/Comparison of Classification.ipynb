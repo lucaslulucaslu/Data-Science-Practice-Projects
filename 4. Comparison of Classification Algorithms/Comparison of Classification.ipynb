{
 "cells": [
  {
   "cell_type": "code",
   "execution_count": 94,
   "id": "392c0d45-ee56-4d44-9ada-34f1837c1363",
   "metadata": {},
   "outputs": [],
   "source": [
    "import numpy\n",
    "import pandas as pd\n",
    "import numpy as np\n",
    "import matplotlib.pyplot as plt\n",
    "from sklearn.model_selection import train_test_split\n",
    "from sklearn.tree import DecisionTreeClassifier\n",
    "from sklearn.linear_model import LogisticRegression\n",
    "from sklearn.naive_bayes import BernoulliNB\n",
    "from sklearn.neighbors import KNeighborsClassifier\n",
    "from sklearn.linear_model import PassiveAggressiveClassifier\n",
    "from sklearn.metrics import classification_report\n",
    "from sklearn.svm import SVC"
   ]
  },
  {
   "cell_type": "code",
   "execution_count": 68,
   "id": "e72a752c-96a7-41c4-a2dd-6cc91e16f15a",
   "metadata": {},
   "outputs": [
    {
     "data": {
      "text/html": [
       "<div>\n",
       "<style scoped>\n",
       "    .dataframe tbody tr th:only-of-type {\n",
       "        vertical-align: middle;\n",
       "    }\n",
       "\n",
       "    .dataframe tbody tr th {\n",
       "        vertical-align: top;\n",
       "    }\n",
       "\n",
       "    .dataframe thead th {\n",
       "        text-align: right;\n",
       "    }\n",
       "</style>\n",
       "<table border=\"1\" class=\"dataframe\">\n",
       "  <thead>\n",
       "    <tr style=\"text-align: right;\">\n",
       "      <th></th>\n",
       "      <th>Age</th>\n",
       "      <th>EstimatedSalary</th>\n",
       "      <th>Purchased</th>\n",
       "    </tr>\n",
       "  </thead>\n",
       "  <tbody>\n",
       "    <tr>\n",
       "      <th>0</th>\n",
       "      <td>19</td>\n",
       "      <td>19000</td>\n",
       "      <td>0</td>\n",
       "    </tr>\n",
       "    <tr>\n",
       "      <th>1</th>\n",
       "      <td>35</td>\n",
       "      <td>20000</td>\n",
       "      <td>0</td>\n",
       "    </tr>\n",
       "    <tr>\n",
       "      <th>2</th>\n",
       "      <td>26</td>\n",
       "      <td>43000</td>\n",
       "      <td>0</td>\n",
       "    </tr>\n",
       "    <tr>\n",
       "      <th>3</th>\n",
       "      <td>27</td>\n",
       "      <td>57000</td>\n",
       "      <td>0</td>\n",
       "    </tr>\n",
       "    <tr>\n",
       "      <th>4</th>\n",
       "      <td>19</td>\n",
       "      <td>76000</td>\n",
       "      <td>0</td>\n",
       "    </tr>\n",
       "  </tbody>\n",
       "</table>\n",
       "</div>"
      ],
      "text/plain": [
       "   Age  EstimatedSalary  Purchased\n",
       "0   19            19000          0\n",
       "1   35            20000          0\n",
       "2   26            43000          0\n",
       "3   27            57000          0\n",
       "4   19            76000          0"
      ]
     },
     "execution_count": 68,
     "metadata": {},
     "output_type": "execute_result"
    }
   ],
   "source": [
    "data = pd.read_csv(\"https://raw.githubusercontent.com/amankharwal/Website-data/master/social.csv\")\n",
    "# url https://thecleverprogrammer.com/2021/10/02/comparison-of-classification-algorithms-in-machine-learning/\n",
    "data.head()"
   ]
  },
  {
   "cell_type": "code",
   "execution_count": 15,
   "id": "46ae2824-0f98-4e39-b63e-beab26a849b3",
   "metadata": {},
   "outputs": [
    {
     "data": {
      "text/plain": [
       "Age                0\n",
       "EstimatedSalary    0\n",
       "Purchased          0\n",
       "dtype: int64"
      ]
     },
     "execution_count": 15,
     "metadata": {},
     "output_type": "execute_result"
    }
   ],
   "source": [
    "data.isnull().sum()"
   ]
  },
  {
   "cell_type": "code",
   "execution_count": 105,
   "id": "2a569cf2-d028-4e62-9274-435c965427f9",
   "metadata": {},
   "outputs": [
    {
     "data": {
      "image/png": "[encoded data removed]",
      "text/plain": [
       "<Figure size 1200x400 with 2 Axes>"
      ]
     },
     "metadata": {},
     "output_type": "display_data"
    }
   ],
   "source": [
    "fig,(ax1,ax2)=plt.subplots(1,2,sharey=True,figsize=(12,4))\n",
    "ax1.hist([data[data['Purchased']==0]['Age'],data[data['Purchased']==1]['Age']],\n",
    "        label=['No Purchase','Purchased']\n",
    "       )\n",
    "ax1.legend(prop={'size': 8})\n",
    "ax1.set_xlabel('Age')\n",
    "ax2.hist([data[data['Purchased']==0]['EstimatedSalary'],data[data['Purchased']==1]['EstimatedSalary']],\n",
    "        label=['No Purchase','Purchased']\n",
    "       )\n",
    "ax2.legend(prop={'size': 8})\n",
    "ax2.set_xlabel('Estimate Salary')\n",
    "plt.show()"
   ]
  },
  {
   "cell_type": "code",
   "execution_count": 107,
   "id": "48ed8e6c-ab9c-4041-8fa7-0398289437fd",
   "metadata": {},
   "outputs": [
    {
     "data": {
      "text/html": [
       "<div>\n",
       "<style scoped>\n",
       "    .dataframe tbody tr th:only-of-type {\n",
       "        vertical-align: middle;\n",
       "    }\n",
       "\n",
       "    .dataframe tbody tr th {\n",
       "        vertical-align: top;\n",
       "    }\n",
       "\n",
       "    .dataframe thead th {\n",
       "        text-align: right;\n",
       "    }\n",
       "</style>\n",
       "<table border=\"1\" class=\"dataframe\">\n",
       "  <thead>\n",
       "    <tr style=\"text-align: right;\">\n",
       "      <th></th>\n",
       "      <th>Classification Algorithms</th>\n",
       "      <th>Score</th>\n",
       "    </tr>\n",
       "  </thead>\n",
       "  <tbody>\n",
       "    <tr>\n",
       "      <th>0</th>\n",
       "      <td>KNN Classifier</td>\n",
       "      <td>0.900</td>\n",
       "    </tr>\n",
       "    <tr>\n",
       "      <th>1</th>\n",
       "      <td>Decision Tree Classifier</td>\n",
       "      <td>0.875</td>\n",
       "    </tr>\n",
       "    <tr>\n",
       "      <th>2</th>\n",
       "      <td>Logistic Regression</td>\n",
       "      <td>0.775</td>\n",
       "    </tr>\n",
       "    <tr>\n",
       "      <th>3</th>\n",
       "      <td>Passive Aggressive Classifier</td>\n",
       "      <td>0.775</td>\n",
       "    </tr>\n",
       "    <tr>\n",
       "      <th>4</th>\n",
       "      <td>bernoulli_naiveBayes</td>\n",
       "      <td>0.775</td>\n",
       "    </tr>\n",
       "    <tr>\n",
       "      <th>5</th>\n",
       "      <td>Support Vector Machine</td>\n",
       "      <td>0.850</td>\n",
       "    </tr>\n",
       "  </tbody>\n",
       "</table>\n",
       "</div>"
      ],
      "text/plain": [
       "       Classification Algorithms  Score\n",
       "0                 KNN Classifier  0.900\n",
       "1       Decision Tree Classifier  0.875\n",
       "2            Logistic Regression  0.775\n",
       "3  Passive Aggressive Classifier  0.775\n",
       "4           bernoulli_naiveBayes  0.775\n",
       "5         Support Vector Machine  0.850"
      ]
     },
     "execution_count": 107,
     "metadata": {},
     "output_type": "execute_result"
    }
   ],
   "source": [
    "x = np.array(data[[\"Age\", \"EstimatedSalary\"]])\n",
    "y = np.array(data[\"Purchased\"])\n",
    "\n",
    "xtrain, xtest, ytrain, ytest = train_test_split(x, y, test_size=0.10, random_state=365)\n",
    "decisiontree = DecisionTreeClassifier()\n",
    "logisticregression = LogisticRegression()\n",
    "knearestclassifier = KNeighborsClassifier()\n",
    "svm_classifier = SVC()\n",
    "bernoulli_naiveBayes = BernoulliNB()\n",
    "passiveAggressive = PassiveAggressiveClassifier()\n",
    "\n",
    "knearestclassifier.fit(xtrain, ytrain)\n",
    "decisiontree.fit(xtrain, ytrain)\n",
    "logisticregression.fit(xtrain, ytrain)\n",
    "passiveAggressive.fit(xtrain, ytrain)\n",
    "bernoulli_naiveBayes.fit(xtrain,ytrain)\n",
    "svm_classifier.fit(xtrain,ytrain)\n",
    "\n",
    "results = {\"Classification Algorithms\": [\"KNN Classifier\", \"Decision Tree Classifier\", \n",
    "                                       \"Logistic Regression\", \"Passive Aggressive Classifier\",\n",
    "                                       \"bernoulli_naiveBayes\",\"Support Vector Machine\"],\n",
    "      \"Score\": [knearestclassifier.score(xtest,ytest), decisiontree.score(xtest, ytest), \n",
    "                logisticregression.score(xtest, ytest), passiveAggressive.score(xtest,ytest),\n",
    "                bernoulli_naiveBayes.score(xtest,ytest),svm_classifier.score(xtest,ytest)]}\n",
    "score = pd.DataFrame(results)\n",
    "score"
   ]
  },
  {
   "cell_type": "markdown",
   "id": "b8a50d23-5d4a-43cb-821d-120e0bdc3832",
   "metadata": {},
   "source": [
    "#KNN: K-Nearest Neighbors Algorithm, supervised learning, find K nearest neighbors to a given point based on distance (Euclidean distance). The value or class of the given point is determined by the majority vote or average of the K neighbors. https://www.geeksforgeeks.org/k-nearest-neighbours/"
   ]
  },
  {
   "cell_type": "markdown",
   "id": "5b1e44dc-3300-4032-aed1-bd2e02260ae0",
   "metadata": {},
   "source": [
    "#Decision Tree: Binary splits, feature independent, top down greedy approach - may not reach global optiaml tree, easy to overfitting and senstive to outliers, sensitive to sample size, overfitting to samll sample size or too complex tree for large sample size. Steps:\n",
    "1. Starting at the root, which has the maximum entropy\n",
    "2. Asking the best question, split the tree at maximum information gain - most decreased entropy\n",
    "3. repeating the procedure until reach max depth or min tree elements\n",
    "https://www.analyticsvidhya.com/blog/2021/08/decision-tree-algorithm/"
   ]
  },
  {
   "cell_type": "markdown",
   "id": "5a92b8c4-d186-4428-9e12-4d45f8888b9c",
   "metadata": {},
   "source": [
    "#Logistic Regression: Log(P/(1-P))=x0+b1x1+b2x2+... It is a binary classification where we use sigmoid function, that takes input as independent variables and produces a probability value between 0 and 1 https://www.geeksforgeeks.org/understanding-logistic-regression/"
   ]
  },
  {
   "cell_type": "markdown",
   "id": "a346e70d-b7f7-474d-b5e1-724da4e361cd",
   "metadata": {},
   "source": [
    "#Passive Aggressive Classifier: generally used for large-scale learning and one of few 'online-learning-algorithms', means the input data comes in sequential order and the machine learning model is updated step-by-step.\n",
    "Passive: if the prediction is correct, keep the model and do not make any changes\n",
    "Aggressive: if the rpediction is incorrect, make changes to the model, i.e. some change to the model may correct it\n",
    "https://www.geeksforgeeks.org/passive-aggressive-classifiers/"
   ]
  },
  {
   "cell_type": "markdown",
   "id": "0966968d-038c-4467-9044-f6bf76b80730",
   "metadata": {},
   "source": [
    "#Bernoulli Naive Bayes: is a supervised machine learning, it uses Bayes Theorem to predict the posterior probability of any event based on the events that have already occurred. The Naive means all events are independent.\n",
    "Bernoulli Naive Bayes is a subcategory of the Naive Bayes Algorithm, it is used for the classification of binary features. spam detection, text classification, sentiment analysis.\n",
    "Bayes Theorem: https://en.wikipedia.org/wiki/Bayes%27_theorem"
   ]
  },
  {
   "cell_type": "markdown",
   "id": "b30d7b38-e114-4704-9f71-5e1620c7da5b",
   "metadata": {},
   "source": [
    "#Support Vector Machine: Support Vector Machine (SVM) is a supervised machine learning algorithm used for both classification and regression. Though we say regression problems as well it’s best suited for classification. https://www.geeksforgeeks.org/support-vector-machine-algorithm/?ref=lbp\n",
    "1. Hyperplane: Hyperplane is the decision boundary that is used to separate the data points of different classes in a feature space. In the case of linear classifications, it will be a linear equation i.e. wx+b = 0.\r",
    "2. \n",
    "Support Vectors: Support vectors are the closest data points to the hyperplane, which makes a critical role in deciding the hyperplane and margin. "
   ]
  },
  {
   "cell_type": "code",
   "execution_count": null,
   "id": "95c3d0ec-6875-45ea-866b-b0a38bd87029",
   "metadata": {},
   "outputs": [],
   "source": []
  }
 ],
 "metadata": {
  "kernelspec": {
   "display_name": "Python 3 (ipykernel)",
   "language": "python",
   "name": "python3"
  },
  "language_info": {
   "codemirror_mode": {
    "name": "ipython",
    "version": 3
   },
   "file_extension": ".py",
   "mimetype": "text/x-python",
   "name": "python",
   "nbconvert_exporter": "python",
   "pygments_lexer": "ipython3",
   "version": "3.10.13"
  }
 },
 "nbformat": 4,
 "nbformat_minor": 5
}
