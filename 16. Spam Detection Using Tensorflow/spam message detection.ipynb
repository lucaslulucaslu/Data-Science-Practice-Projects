{
 "cells": [
  {
   "cell_type": "code",
   "execution_count": 1,
   "id": "eb029454-0aa6-4a07-a91d-bfeaa65073db",
   "metadata": {},
   "outputs": [],
   "source": [
    "import pandas as pd\n",
    "import numpy as np\n",
    "import matplotlib.pyplot as plt"
   ]
  },
  {
   "cell_type": "code",
   "execution_count": 2,
   "id": "84c361f3-bae2-4c08-85cb-265dafd26a95",
   "metadata": {},
   "outputs": [],
   "source": [
    "data=pd.read_csv(\"..\\\\datasets\\\\16-spam-detection-using-tensorflow\\\\SPAM text message 20170820 - Data.csv\")\n",
    "# data source : https://www.kaggle.com/datasets/team-ai/spam-text-message-classification/data"
   ]
  },
  {
   "cell_type": "code",
   "execution_count": 3,
   "id": "24685928-9be2-4201-952b-90e425bad42c",
   "metadata": {},
   "outputs": [
    {
     "data": {
      "text/html": [
       "<div>\n",
       "<style scoped>\n",
       "    .dataframe tbody tr th:only-of-type {\n",
       "        vertical-align: middle;\n",
       "    }\n",
       "\n",
       "    .dataframe tbody tr th {\n",
       "        vertical-align: top;\n",
       "    }\n",
       "\n",
       "    .dataframe thead th {\n",
       "        text-align: right;\n",
       "    }\n",
       "</style>\n",
       "<table border=\"1\" class=\"dataframe\">\n",
       "  <thead>\n",
       "    <tr style=\"text-align: right;\">\n",
       "      <th></th>\n",
       "      <th>Category</th>\n",
       "      <th>Message</th>\n",
       "    </tr>\n",
       "  </thead>\n",
       "  <tbody>\n",
       "    <tr>\n",
       "      <th>0</th>\n",
       "      <td>ham</td>\n",
       "      <td>Go until jurong point, crazy.. Available only ...</td>\n",
       "    </tr>\n",
       "    <tr>\n",
       "      <th>1</th>\n",
       "      <td>ham</td>\n",
       "      <td>Ok lar... Joking wif u oni...</td>\n",
       "    </tr>\n",
       "    <tr>\n",
       "      <th>2</th>\n",
       "      <td>spam</td>\n",
       "      <td>Free entry in 2 a wkly comp to win FA Cup fina...</td>\n",
       "    </tr>\n",
       "    <tr>\n",
       "      <th>3</th>\n",
       "      <td>ham</td>\n",
       "      <td>U dun say so early hor... U c already then say...</td>\n",
       "    </tr>\n",
       "    <tr>\n",
       "      <th>4</th>\n",
       "      <td>ham</td>\n",
       "      <td>Nah I don't think he goes to usf, he lives aro...</td>\n",
       "    </tr>\n",
       "  </tbody>\n",
       "</table>\n",
       "</div>"
      ],
      "text/plain": [
       "  Category                                            Message\n",
       "0      ham  Go until jurong point, crazy.. Available only ...\n",
       "1      ham                      Ok lar... Joking wif u oni...\n",
       "2     spam  Free entry in 2 a wkly comp to win FA Cup fina...\n",
       "3      ham  U dun say so early hor... U c already then say...\n",
       "4      ham  Nah I don't think he goes to usf, he lives aro..."
      ]
     },
     "execution_count": 3,
     "metadata": {},
     "output_type": "execute_result"
    }
   ],
   "source": [
    "data.head()"
   ]
  },
  {
   "cell_type": "code",
   "execution_count": 4,
   "id": "877fa8cb-9f47-4c73-9fad-047914854a3b",
   "metadata": {},
   "outputs": [
    {
     "data": {
      "image/png": "[encoded data removed]",
      "text/plain": [
       "<Figure size 640x480 with 1 Axes>"
      ]
     },
     "metadata": {},
     "output_type": "display_data"
    }
   ],
   "source": [
    "category_df=data['Category'].value_counts().plot(kind='pie',autopct='%1.1f%%',explode=(0.1,0))"
   ]
  },
  {
   "cell_type": "code",
   "execution_count": 5,
   "id": "d67a5b0d-984f-41d1-b906-74000cc8e203",
   "metadata": {},
   "outputs": [
    {
     "name": "stderr",
     "output_type": "stream",
     "text": [
      "[nltk_data] Downloading package stopwords to\n",
      "[nltk_data]     C:\\Users\\shich\\AppData\\Roaming\\nltk_data...\n",
      "[nltk_data]   Package stopwords is already up-to-date!\n"
     ]
    }
   ],
   "source": [
    "import nltk\n",
    "import re\n",
    "from nltk.corpus import stopwords\n",
    "import string\n",
    "\n",
    "nltk.download('stopwords')\n",
    "stemmer=nltk.SnowballStemmer('english')\n",
    "stopword=set(stopwords.words('english'))\n",
    "def clean(text):\n",
    "    text = str(text).lower() #lower case all text\n",
    "    text = re.sub('\\[.*?\\]', '', text) # remove all characters between []\n",
    "    text = re.sub('https?://\\S+|www\\.\\S+', '', text) # remove URLs\n",
    "    text = re.sub('<.*?>+', '', text) # remove all characters between <>\n",
    "    text = re.sub('[%s]' % re.escape(string.punctuation), '', text) # remove punctuation\n",
    "    text = re.sub('\\n', '', text) # remove line breaker\n",
    "    text = re.sub('\\w*\\d\\w*', '', text) # remove word with numbers\n",
    "    text = [word for word in text.split(' ') if word not in stopword] # remove word if in stopword\n",
    "    text=\" \".join(text)\n",
    "    text = [stemmer.stem(word) for word in text.split(' ')] #stemming\n",
    "    text=\" \".join(text)\n",
    "    return text"
   ]
  },
  {
   "cell_type": "code",
   "execution_count": 6,
   "id": "8aba6205-8b1e-4486-817d-5eff0dd274ed",
   "metadata": {},
   "outputs": [],
   "source": [
    "data['Message']=data['Message'].apply(clean)"
   ]
  },
  {
   "cell_type": "code",
   "execution_count": 7,
   "id": "867ef126-00b2-467e-9e43-4fb701282d64",
   "metadata": {},
   "outputs": [
    {
     "data": {
      "text/html": [
       "<style type=\"text/css\">\n",
       "#T_0f06f_row0_col0 {\n",
       "  background-color: #67000d;\n",
       "  color: #f1f1f1;\n",
       "}\n",
       "#T_0f06f_row0_col1 {\n",
       "  background-color: #c7171c;\n",
       "  color: #f1f1f1;\n",
       "}\n",
       "#T_0f06f_row0_col2 {\n",
       "  background-color: #fa6648;\n",
       "  color: #f1f1f1;\n",
       "}\n",
       "#T_0f06f_row0_col3 {\n",
       "  background-color: #fcb095;\n",
       "  color: #000000;\n",
       "}\n",
       "#T_0f06f_row0_col4 {\n",
       "  background-color: #fcb69b;\n",
       "  color: #000000;\n",
       "}\n",
       "#T_0f06f_row0_col5 {\n",
       "  background-color: #fcb79c;\n",
       "  color: #000000;\n",
       "}\n",
       "#T_0f06f_row0_col6 {\n",
       "  background-color: #fcbda4;\n",
       "  color: #000000;\n",
       "}\n",
       "#T_0f06f_row0_col7 {\n",
       "  background-color: #fcc1a8;\n",
       "  color: #000000;\n",
       "}\n",
       "#T_0f06f_row0_col8 {\n",
       "  background-color: #fdd4c2;\n",
       "  color: #000000;\n",
       "}\n",
       "#T_0f06f_row0_col9 {\n",
       "  background-color: #fdd7c6;\n",
       "  color: #000000;\n",
       "}\n",
       "#T_0f06f_row0_col10 {\n",
       "  background-color: #fedaca;\n",
       "  color: #000000;\n",
       "}\n",
       "#T_0f06f_row0_col11 {\n",
       "  background-color: #fee7db;\n",
       "  color: #000000;\n",
       "}\n",
       "#T_0f06f_row0_col12 {\n",
       "  background-color: #fee9df;\n",
       "  color: #000000;\n",
       "}\n",
       "#T_0f06f_row0_col13 {\n",
       "  background-color: #ffebe2;\n",
       "  color: #000000;\n",
       "}\n",
       "#T_0f06f_row0_col14 {\n",
       "  background-color: #fff1ea;\n",
       "  color: #000000;\n",
       "}\n",
       "#T_0f06f_row0_col15 {\n",
       "  background-color: #fff2eb;\n",
       "  color: #000000;\n",
       "}\n",
       "#T_0f06f_row0_col16 {\n",
       "  background-color: #fff3ed;\n",
       "  color: #000000;\n",
       "}\n",
       "#T_0f06f_row0_col17 {\n",
       "  background-color: #fff4ee;\n",
       "  color: #000000;\n",
       "}\n",
       "#T_0f06f_row0_col18 {\n",
       "  background-color: #fff4ef;\n",
       "  color: #000000;\n",
       "}\n",
       "#T_0f06f_row0_col19 {\n",
       "  background-color: #fff5f0;\n",
       "  color: #000000;\n",
       "}\n",
       "</style>\n",
       "<table id=\"T_0f06f\">\n",
       "  <thead>\n",
       "    <tr>\n",
       "      <th class=\"index_name level0\" >0</th>\n",
       "      <th id=\"T_0f06f_level0_col0\" class=\"col_heading level0 col0\" >('call',)</th>\n",
       "      <th id=\"T_0f06f_level0_col1\" class=\"col_heading level0 col1\" >('£',)</th>\n",
       "      <th id=\"T_0f06f_level0_col2\" class=\"col_heading level0 col2\" >('free',)</th>\n",
       "      <th id=\"T_0f06f_level0_col3\" class=\"col_heading level0 col3\" >('txt',)</th>\n",
       "      <th id=\"T_0f06f_level0_col4\" class=\"col_heading level0 col4\" >('u',)</th>\n",
       "      <th id=\"T_0f06f_level0_col5\" class=\"col_heading level0 col5\" >('ur',)</th>\n",
       "      <th id=\"T_0f06f_level0_col6\" class=\"col_heading level0 col6\" >('text',)</th>\n",
       "      <th id=\"T_0f06f_level0_col7\" class=\"col_heading level0 col7\" >('mobil',)</th>\n",
       "      <th id=\"T_0f06f_level0_col8\" class=\"col_heading level0 col8\" >('stop',)</th>\n",
       "      <th id=\"T_0f06f_level0_col9\" class=\"col_heading level0 col9\" >('claim',)</th>\n",
       "      <th id=\"T_0f06f_level0_col10\" class=\"col_heading level0 col10\" >('repli',)</th>\n",
       "      <th id=\"T_0f06f_level0_col11\" class=\"col_heading level0 col11\" >('prize',)</th>\n",
       "      <th id=\"T_0f06f_level0_col12\" class=\"col_heading level0 col12\" >('get',)</th>\n",
       "      <th id=\"T_0f06f_level0_col13\" class=\"col_heading level0 col13\" >('week',)</th>\n",
       "      <th id=\"T_0f06f_level0_col14\" class=\"col_heading level0 col14\" >('tone',)</th>\n",
       "      <th id=\"T_0f06f_level0_col15\" class=\"col_heading level0 col15\" >('servic',)</th>\n",
       "      <th id=\"T_0f06f_level0_col16\" class=\"col_heading level0 col16\" >('send',)</th>\n",
       "      <th id=\"T_0f06f_level0_col17\" class=\"col_heading level0 col17\" >('new',)</th>\n",
       "      <th id=\"T_0f06f_level0_col18\" class=\"col_heading level0 col18\" >('nokia',)</th>\n",
       "      <th id=\"T_0f06f_level0_col19\" class=\"col_heading level0 col19\" >('award',)</th>\n",
       "    </tr>\n",
       "  </thead>\n",
       "  <tbody>\n",
       "    <tr>\n",
       "      <th id=\"T_0f06f_level0_row0\" class=\"row_heading level0 row0\" >count</th>\n",
       "      <td id=\"T_0f06f_row0_col0\" class=\"data row0 col0\" >363</td>\n",
       "      <td id=\"T_0f06f_row0_col1\" class=\"data row0 col1\" >293</td>\n",
       "      <td id=\"T_0f06f_row0_col2\" class=\"data row0 col2\" >217</td>\n",
       "      <td id=\"T_0f06f_row0_col3\" class=\"data row0 col3\" >150</td>\n",
       "      <td id=\"T_0f06f_row0_col4\" class=\"data row0 col4\" >145</td>\n",
       "      <td id=\"T_0f06f_row0_col5\" class=\"data row0 col5\" >144</td>\n",
       "      <td id=\"T_0f06f_row0_col6\" class=\"data row0 col6\" >138</td>\n",
       "      <td id=\"T_0f06f_row0_col7\" class=\"data row0 col7\" >135</td>\n",
       "      <td id=\"T_0f06f_row0_col8\" class=\"data row0 col8\" >115</td>\n",
       "      <td id=\"T_0f06f_row0_col9\" class=\"data row0 col9\" >113</td>\n",
       "      <td id=\"T_0f06f_row0_col10\" class=\"data row0 col10\" >109</td>\n",
       "      <td id=\"T_0f06f_row0_col11\" class=\"data row0 col11\" >92</td>\n",
       "      <td id=\"T_0f06f_row0_col12\" class=\"data row0 col12\" >87</td>\n",
       "      <td id=\"T_0f06f_row0_col13\" class=\"data row0 col13\" >84</td>\n",
       "      <td id=\"T_0f06f_row0_col14\" class=\"data row0 col14\" >73</td>\n",
       "      <td id=\"T_0f06f_row0_col15\" class=\"data row0 col15\" >72</td>\n",
       "      <td id=\"T_0f06f_row0_col16\" class=\"data row0 col16\" >70</td>\n",
       "      <td id=\"T_0f06f_row0_col17\" class=\"data row0 col17\" >69</td>\n",
       "      <td id=\"T_0f06f_row0_col18\" class=\"data row0 col18\" >68</td>\n",
       "      <td id=\"T_0f06f_row0_col19\" class=\"data row0 col19\" >66</td>\n",
       "    </tr>\n",
       "  </tbody>\n",
       "</table>\n"
      ],
      "text/plain": [
       "<pandas.io.formats.style.Styler at 0x260e1c29630>"
      ]
     },
     "execution_count": 7,
     "metadata": {},
     "output_type": "execute_result"
    }
   ],
   "source": [
    "spam_word_array=[]\n",
    "for m in data[data['Category']=='spam']['Message'].to_list():\n",
    "    for word in m.split():\n",
    "        spam_word_array.append(word)\n",
    "df=pd.DataFrame(spam_word_array).value_counts().to_frame().head(20)\n",
    "df.T.style.background_gradient(cmap='Reds',axis=1)"
   ]
  },
  {
   "cell_type": "code",
   "execution_count": 8,
   "id": "bf2b7654-eb06-4f93-b3aa-5d1df0196acf",
   "metadata": {},
   "outputs": [
    {
     "data": {
      "text/html": [
       "<style type=\"text/css\">\n",
       "#T_69651_row0_col0 {\n",
       "  background-color: #08306b;\n",
       "  color: #f1f1f1;\n",
       "}\n",
       "#T_69651_row0_col1 {\n",
       "  background-color: #a9cfe5;\n",
       "  color: #000000;\n",
       "}\n",
       "#T_69651_row0_col2 {\n",
       "  background-color: #b7d4ea;\n",
       "  color: #000000;\n",
       "}\n",
       "#T_69651_row0_col3 {\n",
       "  background-color: #cadef0;\n",
       "  color: #000000;\n",
       "}\n",
       "#T_69651_row0_col4 {\n",
       "  background-color: #dae8f6;\n",
       "  color: #000000;\n",
       "}\n",
       "#T_69651_row0_col5 {\n",
       "  background-color: #dce9f6;\n",
       "  color: #000000;\n",
       "}\n",
       "#T_69651_row0_col6 {\n",
       "  background-color: #dfebf7;\n",
       "  color: #000000;\n",
       "}\n",
       "#T_69651_row0_col7 {\n",
       "  background-color: #dfecf7;\n",
       "  color: #000000;\n",
       "}\n",
       "#T_69651_row0_col8 {\n",
       "  background-color: #e1edf8;\n",
       "  color: #000000;\n",
       "}\n",
       "#T_69651_row0_col9 {\n",
       "  background-color: #e6f0f9;\n",
       "  color: #000000;\n",
       "}\n",
       "#T_69651_row0_col10, #T_69651_row0_col11 {\n",
       "  background-color: #e7f0fa;\n",
       "  color: #000000;\n",
       "}\n",
       "#T_69651_row0_col12, #T_69651_row0_col13 {\n",
       "  background-color: #e7f1fa;\n",
       "  color: #000000;\n",
       "}\n",
       "#T_69651_row0_col14 {\n",
       "  background-color: #eaf2fb;\n",
       "  color: #000000;\n",
       "}\n",
       "#T_69651_row0_col15 {\n",
       "  background-color: #ebf3fb;\n",
       "  color: #000000;\n",
       "}\n",
       "#T_69651_row0_col16 {\n",
       "  background-color: #edf4fc;\n",
       "  color: #000000;\n",
       "}\n",
       "#T_69651_row0_col17, #T_69651_row0_col18 {\n",
       "  background-color: #eef5fc;\n",
       "  color: #000000;\n",
       "}\n",
       "#T_69651_row0_col19 {\n",
       "  background-color: #f7fbff;\n",
       "  color: #000000;\n",
       "}\n",
       "</style>\n",
       "<table id=\"T_69651\">\n",
       "  <thead>\n",
       "    <tr>\n",
       "      <th class=\"index_name level0\" >0</th>\n",
       "      <th id=\"T_69651_level0_col0\" class=\"col_heading level0 col0\" >('u',)</th>\n",
       "      <th id=\"T_69651_level0_col1\" class=\"col_heading level0 col1\" >('im',)</th>\n",
       "      <th id=\"T_69651_level0_col2\" class=\"col_heading level0 col2\" >('go',)</th>\n",
       "      <th id=\"T_69651_level0_col3\" class=\"col_heading level0 col3\" >('get',)</th>\n",
       "      <th id=\"T_69651_level0_col4\" class=\"col_heading level0 col4\" >('come',)</th>\n",
       "      <th id=\"T_69651_level0_col5\" class=\"col_heading level0 col5\" >('call',)</th>\n",
       "      <th id=\"T_69651_level0_col6\" class=\"col_heading level0 col6\" >('ltgt',)</th>\n",
       "      <th id=\"T_69651_level0_col7\" class=\"col_heading level0 col7\" >('ok',)</th>\n",
       "      <th id=\"T_69651_level0_col8\" class=\"col_heading level0 col8\" >('dont',)</th>\n",
       "      <th id=\"T_69651_level0_col9\" class=\"col_heading level0 col9\" >('ur',)</th>\n",
       "      <th id=\"T_69651_level0_col10\" class=\"col_heading level0 col10\" >('know',)</th>\n",
       "      <th id=\"T_69651_level0_col11\" class=\"col_heading level0 col11\" >('like',)</th>\n",
       "      <th id=\"T_69651_level0_col12\" class=\"col_heading level0 col12\" >('love',)</th>\n",
       "      <th id=\"T_69651_level0_col13\" class=\"col_heading level0 col13\" >('ill',)</th>\n",
       "      <th id=\"T_69651_level0_col14\" class=\"col_heading level0 col14\" >('got',)</th>\n",
       "      <th id=\"T_69651_level0_col15\" class=\"col_heading level0 col15\" >('good',)</th>\n",
       "      <th id=\"T_69651_level0_col16\" class=\"col_heading level0 col16\" >('time',)</th>\n",
       "      <th id=\"T_69651_level0_col17\" class=\"col_heading level0 col17\" >('day',)</th>\n",
       "      <th id=\"T_69651_level0_col18\" class=\"col_heading level0 col18\" >('want',)</th>\n",
       "      <th id=\"T_69651_level0_col19\" class=\"col_heading level0 col19\" >('need',)</th>\n",
       "    </tr>\n",
       "  </thead>\n",
       "  <tbody>\n",
       "    <tr>\n",
       "      <th id=\"T_69651_level0_row0\" class=\"row_heading level0 row0\" >count</th>\n",
       "      <td id=\"T_69651_row0_col0\" class=\"data row0 col0\" >985</td>\n",
       "      <td id=\"T_69651_row0_col1\" class=\"data row0 col1\" >452</td>\n",
       "      <td id=\"T_69651_row0_col2\" class=\"data row0 col2\" >417</td>\n",
       "      <td id=\"T_69651_row0_col3\" class=\"data row0 col3\" >360</td>\n",
       "      <td id=\"T_69651_row0_col4\" class=\"data row0 col4\" >295</td>\n",
       "      <td id=\"T_69651_row0_col5\" class=\"data row0 col5\" >289</td>\n",
       "      <td id=\"T_69651_row0_col6\" class=\"data row0 col6\" >276</td>\n",
       "      <td id=\"T_69651_row0_col7\" class=\"data row0 col7\" >273</td>\n",
       "      <td id=\"T_69651_row0_col8\" class=\"data row0 col8\" >265</td>\n",
       "      <td id=\"T_69651_row0_col9\" class=\"data row0 col9\" >246</td>\n",
       "      <td id=\"T_69651_row0_col10\" class=\"data row0 col10\" >244</td>\n",
       "      <td id=\"T_69651_row0_col11\" class=\"data row0 col11\" >244</td>\n",
       "      <td id=\"T_69651_row0_col12\" class=\"data row0 col12\" >241</td>\n",
       "      <td id=\"T_69651_row0_col13\" class=\"data row0 col13\" >240</td>\n",
       "      <td id=\"T_69651_row0_col14\" class=\"data row0 col14\" >232</td>\n",
       "      <td id=\"T_69651_row0_col15\" class=\"data row0 col15\" >225</td>\n",
       "      <td id=\"T_69651_row0_col16\" class=\"data row0 col16\" >219</td>\n",
       "      <td id=\"T_69651_row0_col17\" class=\"data row0 col17\" >215</td>\n",
       "      <td id=\"T_69651_row0_col18\" class=\"data row0 col18\" >213</td>\n",
       "      <td id=\"T_69651_row0_col19\" class=\"data row0 col19\" >176</td>\n",
       "    </tr>\n",
       "  </tbody>\n",
       "</table>\n"
      ],
      "text/plain": [
       "<pandas.io.formats.style.Styler at 0x260e53c3b80>"
      ]
     },
     "execution_count": 8,
     "metadata": {},
     "output_type": "execute_result"
    }
   ],
   "source": [
    "ham_word_array=[]\n",
    "for m in data[data['Category']=='ham']['Message'].to_list():\n",
    "    for word in m.split():\n",
    "        ham_word_array.append(word)\n",
    "df=pd.DataFrame(ham_word_array).value_counts().to_frame().head(20)\n",
    "df.T.style.background_gradient(cmap='Blues',axis=1)"
   ]
  },
  {
   "cell_type": "code",
   "execution_count": 9,
   "id": "24fa49fc-cd92-4e12-82a8-4e9708f8df96",
   "metadata": {},
   "outputs": [],
   "source": [
    "MAX_WORDS=pd.DataFrame(spam_word_array+ham_word_array).nunique()[0]"
   ]
  },
  {
   "cell_type": "code",
   "execution_count": 10,
   "id": "4a6419af-f921-4a7c-afeb-be101768a80f",
   "metadata": {},
   "outputs": [],
   "source": [
    "data['Message_length']=data['Message'].apply(len)"
   ]
  },
  {
   "cell_type": "code",
   "execution_count": 11,
   "id": "4987c7ec-e651-4752-97b9-4d5274345b5c",
   "metadata": {},
   "outputs": [],
   "source": [
    "MAX_LEN=data['Message_length'].max()"
   ]
  },
  {
   "cell_type": "code",
   "execution_count": 12,
   "id": "5e5cb929-dedf-4a56-b93c-721e84551d8b",
   "metadata": {},
   "outputs": [],
   "source": [
    "from tensorflow.keras.preprocessing.text import Tokenizer\n",
    "tokenizer = Tokenizer(num_words=MAX_WORDS)\n",
    "tokenizer.fit_on_texts(data['Message'].values)"
   ]
  },
  {
   "cell_type": "code",
   "execution_count": 13,
   "id": "09162c7d-289d-4bd0-a931-ae64a99df393",
   "metadata": {},
   "outputs": [],
   "source": [
    "word_index=tokenizer.word_index"
   ]
  },
  {
   "cell_type": "code",
   "execution_count": 14,
   "id": "869761bd-bfee-46ff-aefe-bfc3784361ab",
   "metadata": {},
   "outputs": [
    {
     "data": {
      "text/plain": [
       "41"
      ]
     },
     "execution_count": 14,
     "metadata": {},
     "output_type": "execute_result"
    }
   ],
   "source": [
    "import math\n",
    "vocab_size = len(word_index)  # Assuming you have a word index from your dataset\n",
    "embedding_dim = int(math.sqrt(vocab_size) / 2)  # Adjust the constant factor as needed\n",
    "embedding_dim"
   ]
  },
  {
   "cell_type": "code",
   "execution_count": 15,
   "id": "9bd7efaa-7809-4c59-87f5-08b922ebccd1",
   "metadata": {},
   "outputs": [
    {
     "name": "stdout",
     "output_type": "stream",
     "text": [
      "Shape of label tensor: (5572,)\n"
     ]
    }
   ],
   "source": [
    "from sklearn import preprocessing\n",
    "labelencoder = preprocessing.LabelEncoder()\n",
    "data['Category'] = labelencoder.fit_transform(data['Category'])\n",
    "Y = data['Category'].values\n",
    "print('Shape of label tensor:', Y.shape)"
   ]
  },
  {
   "cell_type": "code",
   "execution_count": 16,
   "id": "bac23a89-98d0-4cef-9272-33d4c1255a48",
   "metadata": {},
   "outputs": [
    {
     "name": "stdout",
     "output_type": "stream",
     "text": [
      "Shape of data tensor: (5572, 477)\n"
     ]
    }
   ],
   "source": [
    "from tensorflow.keras.preprocessing.sequence import pad_sequences\n",
    "X = tokenizer.texts_to_sequences(data['Message'].values)\n",
    "X = pad_sequences(X, maxlen=MAX_LEN)\n",
    "print('Shape of data tensor:', X.shape)"
   ]
  },
  {
   "cell_type": "code",
   "execution_count": 17,
   "id": "c319c471-591b-4c8b-b2e1-65ed62d47811",
   "metadata": {},
   "outputs": [
    {
     "name": "stdout",
     "output_type": "stream",
     "text": [
      "(3900, 477) (3900,)\n",
      "(1672, 477) (1672,)\n"
     ]
    }
   ],
   "source": [
    "from sklearn.model_selection import train_test_split\n",
    "X_train, X_test, Y_train, Y_test = train_test_split(X,Y, test_size = 0.3, random_state = 42)\n",
    "print(X_train.shape,Y_train.shape)\n",
    "print(X_test.shape,Y_test.shape)"
   ]
  },
  {
   "cell_type": "code",
   "execution_count": 18,
   "id": "e2017038-94be-4205-8462-10029ff9344a",
   "metadata": {},
   "outputs": [],
   "source": [
    "import tensorflow as tf\n",
    "model = tf.keras.Sequential()\n",
    "model.add(tf.keras.layers.Embedding(input_dim=30000,output_dim = 30, input_length=X_train.shape[1] ))\n",
    "model.add(tf.keras.layers.LSTM(128, return_sequences=True))\n",
    "model.add(tf.keras.layers.Dropout(0.2))\n",
    "model.add(tf.keras.layers.Dense(128, activation=\"relu\"))\n",
    "model.add(tf.keras.layers.Dropout(0.25))\n",
    "model.add(tf.keras.layers.Flatten())\n",
    "model.add(tf.keras.layers.Dense(1, activation='sigmoid'))\n",
    "model.compile(loss='binary_crossentropy', optimizer=tf.keras.optimizers.Adam(), metrics=['accuracy'])"
   ]
  },
  {
   "cell_type": "code",
   "execution_count": 19,
   "id": "b8483d63-98f8-47b4-8909-d09ca42549a3",
   "metadata": {},
   "outputs": [
    {
     "name": "stdout",
     "output_type": "stream",
     "text": [
      "Model: \"sequential\"\n",
      "_________________________________________________________________\n",
      " Layer (type)                Output Shape              Param #   \n",
      "=================================================================\n",
      " embedding (Embedding)       (None, 477, 30)           900000    \n",
      "                                                                 \n",
      " lstm (LSTM)                 (None, 477, 128)          81408     \n",
      "                                                                 \n",
      " dropout (Dropout)           (None, 477, 128)          0         \n",
      "                                                                 \n",
      " dense (Dense)               (None, 477, 128)          16512     \n",
      "                                                                 \n",
      " dropout_1 (Dropout)         (None, 477, 128)          0         \n",
      "                                                                 \n",
      " flatten (Flatten)           (None, 61056)             0         \n",
      "                                                                 \n",
      " dense_1 (Dense)             (None, 1)                 61057     \n",
      "                                                                 \n",
      "=================================================================\n",
      "Total params: 1,058,977\n",
      "Trainable params: 1,058,977\n",
      "Non-trainable params: 0\n",
      "_________________________________________________________________\n"
     ]
    }
   ],
   "source": [
    "model.summary()"
   ]
  },
  {
   "cell_type": "code",
   "execution_count": 20,
   "id": "56c903ec-4eba-4573-a72c-8eed1fcfbac8",
   "metadata": {},
   "outputs": [
    {
     "name": "stdout",
     "output_type": "stream",
     "text": [
      "Epoch 1/10\n",
      "122/122 - 77s - loss: 0.2807 - accuracy: 0.8990 - val_loss: 0.0840 - val_accuracy: 0.9755 - 77s/epoch - 630ms/step\n",
      "Epoch 2/10\n",
      "122/122 - 76s - loss: 0.0516 - accuracy: 0.9859 - val_loss: 0.0727 - val_accuracy: 0.9785 - 76s/epoch - 620ms/step\n",
      "Epoch 3/10\n",
      "122/122 - 86s - loss: 0.0199 - accuracy: 0.9944 - val_loss: 0.0499 - val_accuracy: 0.9850 - 86s/epoch - 702ms/step\n",
      "Epoch 4/10\n",
      "122/122 - 89s - loss: 0.0119 - accuracy: 0.9982 - val_loss: 0.0544 - val_accuracy: 0.9856 - 89s/epoch - 734ms/step\n",
      "Epoch 5/10\n",
      "122/122 - 83s - loss: 0.0096 - accuracy: 0.9982 - val_loss: 0.0709 - val_accuracy: 0.9880 - 83s/epoch - 680ms/step\n",
      "Epoch 6/10\n",
      "122/122 - 77s - loss: 0.0059 - accuracy: 0.9985 - val_loss: 0.0670 - val_accuracy: 0.9833 - 77s/epoch - 634ms/step\n"
     ]
    }
   ],
   "source": [
    "early_stop = tf.keras.callbacks.EarlyStopping(monitor='val_loss', patience=3)\n",
    "# Train the model\n",
    "epochs = 10\n",
    "history=model.fit(X_train, Y_train ,validation_data=(X_test, Y_test),epochs=epochs,callbacks=[early_stop],verbose=2)"
   ]
  },
  {
   "cell_type": "code",
   "execution_count": 21,
   "id": "5e94b7c9-04ad-4ba9-a6ec-53be0fef5f8f",
   "metadata": {},
   "outputs": [
    {
     "name": "stdout",
     "output_type": "stream",
     "text": [
      "53/53 [==============================] - 7s 137ms/step - loss: 0.0670 - accuracy: 0.9833\n"
     ]
    },
    {
     "data": {
      "text/plain": [
       "[0.06698273122310638, 0.9832535982131958]"
      ]
     },
     "execution_count": 21,
     "metadata": {},
     "output_type": "execute_result"
    }
   ],
   "source": [
    "model.evaluate(X_test, Y_test)"
   ]
  },
  {
   "cell_type": "code",
   "execution_count": 22,
   "id": "17835dd9-7be4-4404-89d1-e0f57f7deca9",
   "metadata": {},
   "outputs": [],
   "source": [
    "train_acc = history.history['accuracy']\n",
    "train_loss = history.history['loss']\n",
    "val_loss = history.history['val_loss']\n",
    "val_acc = history.history['val_accuracy']\n",
    "epoch = [i + 1 for i in range(len(train_acc))]"
   ]
  },
  {
   "cell_type": "code",
   "execution_count": 23,
   "id": "b9b9a629-e6a8-4dd4-b854-ceed739fd2f3",
   "metadata": {},
   "outputs": [
    {
     "data": {
      "text/html": [
       "<style type=\"text/css\">\n",
       "#T_5e481_row0_col0, #T_5e481_row0_col1, #T_5e481_row3_col2, #T_5e481_row4_col2, #T_5e481_row4_col3, #T_5e481_row5_col2, #T_5e481_row5_col4 {\n",
       "  width: 10em;\n",
       "  background: linear-gradient(90deg, #d65f5f 100.0%, transparent 100.0%);\n",
       "}\n",
       "#T_5e481_row0_col2 {\n",
       "  width: 10em;\n",
       "  background: linear-gradient(90deg, #d65f5f 90.0%, transparent 90.0%);\n",
       "}\n",
       "#T_5e481_row0_col3, #T_5e481_row1_col2 {\n",
       "  width: 10em;\n",
       "  background: linear-gradient(90deg, #d65f5f 98.7%, transparent 98.7%);\n",
       "}\n",
       "#T_5e481_row0_col4 {\n",
       "  width: 10em;\n",
       "  background: linear-gradient(90deg, #d65f5f 16.7%, transparent 16.7%);\n",
       "}\n",
       "#T_5e481_row1_col0 {\n",
       "  width: 10em;\n",
       "  background: linear-gradient(90deg, #d65f5f 18.4%, transparent 18.4%);\n",
       "}\n",
       "#T_5e481_row1_col1 {\n",
       "  width: 10em;\n",
       "  background: linear-gradient(90deg, #d65f5f 86.5%, transparent 86.5%);\n",
       "}\n",
       "#T_5e481_row1_col3 {\n",
       "  width: 10em;\n",
       "  background: linear-gradient(90deg, #d65f5f 99.0%, transparent 99.0%);\n",
       "}\n",
       "#T_5e481_row1_col4 {\n",
       "  width: 10em;\n",
       "  background: linear-gradient(90deg, #d65f5f 33.3%, transparent 33.3%);\n",
       "}\n",
       "#T_5e481_row2_col0 {\n",
       "  width: 10em;\n",
       "  background: linear-gradient(90deg, #d65f5f 7.1%, transparent 7.1%);\n",
       "}\n",
       "#T_5e481_row2_col1 {\n",
       "  width: 10em;\n",
       "  background: linear-gradient(90deg, #d65f5f 59.4%, transparent 59.4%);\n",
       "}\n",
       "#T_5e481_row2_col2 {\n",
       "  width: 10em;\n",
       "  background: linear-gradient(90deg, #d65f5f 99.6%, transparent 99.6%);\n",
       "}\n",
       "#T_5e481_row2_col3 {\n",
       "  width: 10em;\n",
       "  background: linear-gradient(90deg, #d65f5f 99.7%, transparent 99.7%);\n",
       "}\n",
       "#T_5e481_row2_col4 {\n",
       "  width: 10em;\n",
       "  background: linear-gradient(90deg, #d65f5f 50.0%, transparent 50.0%);\n",
       "}\n",
       "#T_5e481_row3_col0 {\n",
       "  width: 10em;\n",
       "  background: linear-gradient(90deg, #d65f5f 4.2%, transparent 4.2%);\n",
       "}\n",
       "#T_5e481_row3_col1 {\n",
       "  width: 10em;\n",
       "  background: linear-gradient(90deg, #d65f5f 64.8%, transparent 64.8%);\n",
       "}\n",
       "#T_5e481_row3_col3 {\n",
       "  width: 10em;\n",
       "  background: linear-gradient(90deg, #d65f5f 99.8%, transparent 99.8%);\n",
       "}\n",
       "#T_5e481_row3_col4 {\n",
       "  width: 10em;\n",
       "  background: linear-gradient(90deg, #d65f5f 66.7%, transparent 66.7%);\n",
       "}\n",
       "#T_5e481_row4_col0 {\n",
       "  width: 10em;\n",
       "  background: linear-gradient(90deg, #d65f5f 3.4%, transparent 3.4%);\n",
       "}\n",
       "#T_5e481_row4_col1 {\n",
       "  width: 10em;\n",
       "  background: linear-gradient(90deg, #d65f5f 84.4%, transparent 84.4%);\n",
       "}\n",
       "#T_5e481_row4_col4 {\n",
       "  width: 10em;\n",
       "  background: linear-gradient(90deg, #d65f5f 83.3%, transparent 83.3%);\n",
       "}\n",
       "#T_5e481_row5_col0 {\n",
       "  width: 10em;\n",
       "  background: linear-gradient(90deg, #d65f5f 2.1%, transparent 2.1%);\n",
       "}\n",
       "#T_5e481_row5_col1 {\n",
       "  width: 10em;\n",
       "  background: linear-gradient(90deg, #d65f5f 79.7%, transparent 79.7%);\n",
       "}\n",
       "#T_5e481_row5_col3 {\n",
       "  width: 10em;\n",
       "  background: linear-gradient(90deg, #d65f5f 99.5%, transparent 99.5%);\n",
       "}\n",
       "</style>\n",
       "<table id=\"T_5e481\">\n",
       "  <thead>\n",
       "    <tr>\n",
       "      <th class=\"blank level0\" >&nbsp;</th>\n",
       "      <th id=\"T_5e481_level0_col0\" class=\"col_heading level0 col0\" >Training Loss</th>\n",
       "      <th id=\"T_5e481_level0_col1\" class=\"col_heading level0 col1\" >Validation Loss</th>\n",
       "      <th id=\"T_5e481_level0_col2\" class=\"col_heading level0 col2\" >Train Accuracy</th>\n",
       "      <th id=\"T_5e481_level0_col3\" class=\"col_heading level0 col3\" >Validation Accuracy</th>\n",
       "      <th id=\"T_5e481_level0_col4\" class=\"col_heading level0 col4\" >Epoch</th>\n",
       "    </tr>\n",
       "  </thead>\n",
       "  <tbody>\n",
       "    <tr>\n",
       "      <th id=\"T_5e481_level0_row0\" class=\"row_heading level0 row0\" >0</th>\n",
       "      <td id=\"T_5e481_row0_col0\" class=\"data row0 col0\" >0.280666</td>\n",
       "      <td id=\"T_5e481_row0_col1\" class=\"data row0 col1\" >0.084049</td>\n",
       "      <td id=\"T_5e481_row0_col2\" class=\"data row0 col2\" >0.898974</td>\n",
       "      <td id=\"T_5e481_row0_col3\" class=\"data row0 col3\" >0.975478</td>\n",
       "      <td id=\"T_5e481_row0_col4\" class=\"data row0 col4\" >1</td>\n",
       "    </tr>\n",
       "    <tr>\n",
       "      <th id=\"T_5e481_level0_row1\" class=\"row_heading level0 row1\" >1</th>\n",
       "      <td id=\"T_5e481_row1_col0\" class=\"data row1 col0\" >0.051577</td>\n",
       "      <td id=\"T_5e481_row1_col1\" class=\"data row1 col1\" >0.072675</td>\n",
       "      <td id=\"T_5e481_row1_col2\" class=\"data row1 col2\" >0.985897</td>\n",
       "      <td id=\"T_5e481_row1_col3\" class=\"data row1 col3\" >0.978469</td>\n",
       "      <td id=\"T_5e481_row1_col4\" class=\"data row1 col4\" >2</td>\n",
       "    </tr>\n",
       "    <tr>\n",
       "      <th id=\"T_5e481_level0_row2\" class=\"row_heading level0 row2\" >2</th>\n",
       "      <td id=\"T_5e481_row2_col0\" class=\"data row2 col0\" >0.019895</td>\n",
       "      <td id=\"T_5e481_row2_col1\" class=\"data row2 col1\" >0.049891</td>\n",
       "      <td id=\"T_5e481_row2_col2\" class=\"data row2 col2\" >0.994359</td>\n",
       "      <td id=\"T_5e481_row2_col3\" class=\"data row2 col3\" >0.985048</td>\n",
       "      <td id=\"T_5e481_row2_col4\" class=\"data row2 col4\" >3</td>\n",
       "    </tr>\n",
       "    <tr>\n",
       "      <th id=\"T_5e481_level0_row3\" class=\"row_heading level0 row3\" >3</th>\n",
       "      <td id=\"T_5e481_row3_col0\" class=\"data row3 col0\" >0.011851</td>\n",
       "      <td id=\"T_5e481_row3_col1\" class=\"data row3 col1\" >0.054431</td>\n",
       "      <td id=\"T_5e481_row3_col2\" class=\"data row3 col2\" >0.998205</td>\n",
       "      <td id=\"T_5e481_row3_col3\" class=\"data row3 col3\" >0.985646</td>\n",
       "      <td id=\"T_5e481_row3_col4\" class=\"data row3 col4\" >4</td>\n",
       "    </tr>\n",
       "    <tr>\n",
       "      <th id=\"T_5e481_level0_row4\" class=\"row_heading level0 row4\" >4</th>\n",
       "      <td id=\"T_5e481_row4_col0\" class=\"data row4 col0\" >0.009600</td>\n",
       "      <td id=\"T_5e481_row4_col1\" class=\"data row4 col1\" >0.070903</td>\n",
       "      <td id=\"T_5e481_row4_col2\" class=\"data row4 col2\" >0.998205</td>\n",
       "      <td id=\"T_5e481_row4_col3\" class=\"data row4 col3\" >0.988038</td>\n",
       "      <td id=\"T_5e481_row4_col4\" class=\"data row4 col4\" >5</td>\n",
       "    </tr>\n",
       "    <tr>\n",
       "      <th id=\"T_5e481_level0_row5\" class=\"row_heading level0 row5\" >5</th>\n",
       "      <td id=\"T_5e481_row5_col0\" class=\"data row5 col0\" >0.005879</td>\n",
       "      <td id=\"T_5e481_row5_col1\" class=\"data row5 col1\" >0.066983</td>\n",
       "      <td id=\"T_5e481_row5_col2\" class=\"data row5 col2\" >0.998462</td>\n",
       "      <td id=\"T_5e481_row5_col3\" class=\"data row5 col3\" >0.983254</td>\n",
       "      <td id=\"T_5e481_row5_col4\" class=\"data row5 col4\" >6</td>\n",
       "    </tr>\n",
       "  </tbody>\n",
       "</table>\n"
      ],
      "text/plain": [
       "<pandas.io.formats.style.Styler at 0x260fe2db010>"
      ]
     },
     "execution_count": 23,
     "metadata": {},
     "output_type": "execute_result"
    }
   ],
   "source": [
    "acc_loss_df = pd.DataFrame({\"Training Loss\" : train_loss,\n",
    "                            \"Validation Loss\": val_loss,\n",
    "                            \"Train Accuracy\" : train_acc,\n",
    "                            \"Validation Accuracy\" : val_acc,\n",
    "                            \"Epoch\":epoch})\n",
    "\n",
    "\n",
    "acc_loss_df.style.bar()"
   ]
  },
  {
   "cell_type": "code",
   "execution_count": 38,
   "id": "93e16a09-767a-486c-8c11-601571545544",
   "metadata": {},
   "outputs": [
    {
     "data": {
      "image/png": "[encoded data removed]",
      "text/plain": [
       "<Figure size 640x480 with 1 Axes>"
      ]
     },
     "metadata": {},
     "output_type": "display_data"
    }
   ],
   "source": [
    "fig = plt.figure()\n",
    "\n",
    "plt.plot(acc_loss_df['Epoch'],acc_loss_df['Train Accuracy'],label='Training Accuracy')\n",
    "plt.plot(acc_loss_df['Epoch'],acc_loss_df['Validation Accuracy'],label = 'Validation Accuracy')\n",
    "plt.title('Training Accuracy Vs Validation Accuracy')\n",
    "plt.xlabel('Epoch')\n",
    "plt.ylabel('Accuracy')\n",
    "plt.legend()\n",
    "plt.show()\n"
   ]
  },
  {
   "cell_type": "code",
   "execution_count": 40,
   "id": "803232d7-8f04-45eb-b45a-c2aedeb932ec",
   "metadata": {},
   "outputs": [
    {
     "data": {
      "image/png": "[encoded data removed]",
      "text/plain": [
       "<Figure size 640x480 with 1 Axes>"
      ]
     },
     "metadata": {},
     "output_type": "display_data"
    }
   ],
   "source": [
    "fig = plt.figure()\n",
    "\n",
    "plt.plot(acc_loss_df['Epoch'],acc_loss_df['Training Loss'],label='Training Loss')\n",
    "\n",
    "plt.plot(acc_loss_df['Epoch'],acc_loss_df['Validation Loss'],label= 'Validation Loss')\n",
    "\n",
    "plt.title('Training Loss Vs Validation Loss')\n",
    "plt.xlabel('Epoch')\n",
    "plt.ylabel('Loss')\n",
    "plt.legend()\n",
    "plt.show()\n"
   ]
  },
  {
   "cell_type": "code",
   "execution_count": 41,
   "id": "c44fbe02-174b-41cf-9d1d-8fcaeafe7053",
   "metadata": {},
   "outputs": [
    {
     "name": "stdout",
     "output_type": "stream",
     "text": [
      "53/53 - 7s - 7s/epoch - 123ms/step\n"
     ]
    }
   ],
   "source": [
    "threshold = 0.5\n",
    "result = model.predict(X_test, verbose=2)\n",
    "result = result > threshold\n",
    "result = result.astype(\"int32\")"
   ]
  },
  {
   "cell_type": "code",
   "execution_count": 42,
   "id": "a53c9e97-d7e9-4888-b366-d6a7669db825",
   "metadata": {},
   "outputs": [
    {
     "name": "stdout",
     "output_type": "stream",
     "text": [
      "              precision    recall  f1-score   support\n",
      "\n",
      "        spam       0.99      0.99      0.99      1448\n",
      "         ham       0.95      0.92      0.94       224\n",
      "\n",
      "    accuracy                           0.98      1672\n",
      "   macro avg       0.97      0.96      0.96      1672\n",
      "weighted avg       0.98      0.98      0.98      1672\n",
      "\n"
     ]
    }
   ],
   "source": [
    "from sklearn.metrics import classification_report\n",
    "target_names = ['spam','ham']\n",
    "print(classification_report(Y_test, result, target_names=target_names))"
   ]
  },
  {
   "cell_type": "code",
   "execution_count": 47,
   "id": "847f4807-b56e-4e01-bc98-d5bf4422cfb7",
   "metadata": {},
   "outputs": [
    {
     "data": {
      "image/png": "[encoded data removed]",
      "text/plain": [
       "<Figure size 640x480 with 2 Axes>"
      ]
     },
     "metadata": {},
     "output_type": "display_data"
    }
   ],
   "source": [
    "from sklearn.metrics import confusion_matrix,ConfusionMatrixDisplay\n",
    "cm = confusion_matrix(Y_test,result)\n",
    "classes = ['ham','spam']\n",
    "disp = ConfusionMatrixDisplay(confusion_matrix=cm,display_labels=classes)\n",
    "disp.plot()\n",
    "plt.show()"
   ]
  },
  {
   "cell_type": "code",
   "execution_count": 29,
   "id": "93e71c97-86a7-4155-828a-97315a2763cd",
   "metadata": {},
   "outputs": [
    {
     "name": "stdout",
     "output_type": "stream",
     "text": [
      "1/1 [==============================] - 0s 55ms/step\n",
      "Ham\n"
     ]
    }
   ],
   "source": [
    "testText=\"I‘m going to try for 2 months ha ha only joking\"\n",
    "predict_msg = [\"\tSIX chances to win CASH! From 100 to 20,000 pounds txt> CSH11 and send to 87575. Cost 150p/day, 6days, 16+ TsandCs apply Reply HL 4 info\"]\n",
    "def predict_spam(predict_msg, threshold=0.5):\n",
    "    new_seq = tokenizer.texts_to_sequences(predict_msg)\n",
    "    padded = pad_sequences(new_seq, maxlen=MAX_LEN)\n",
    "    predictions = model.predict(padded)\n",
    "    for pred in predictions:\n",
    "        if pred > threshold:\n",
    "            print(\"Spam\")\n",
    "        else:\n",
    "            print(\"Ham\")\n",
    "\n",
    "# Example usage\n",
    "predict_msg = [\"Your free trail is going to end, renew it\"]\n",
    "predict_spam(predict_msg)"
   ]
  },
  {
   "cell_type": "code",
   "execution_count": null,
   "id": "de8937b1-e558-4212-aa83-f1b78f6ed859",
   "metadata": {},
   "outputs": [],
   "source": []
  }
 ],
 "metadata": {
  "kernelspec": {
   "display_name": "Python 3 (ipykernel)",
   "language": "python",
   "name": "python3"
  },
  "language_info": {
   "codemirror_mode": {
    "name": "ipython",
    "version": 3
   },
   "file_extension": ".py",
   "mimetype": "text/x-python",
   "name": "python",
   "nbconvert_exporter": "python",
   "pygments_lexer": "ipython3",
   "version": "3.10.13"
  }
 },
 "nbformat": 4,
 "nbformat_minor": 5
}
