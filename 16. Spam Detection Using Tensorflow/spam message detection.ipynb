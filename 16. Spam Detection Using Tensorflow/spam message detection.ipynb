{
 "cells": [
  {
   "cell_type": "code",
   "execution_count": 1,
   "id": "eb029454-0aa6-4a07-a91d-bfeaa65073db",
   "metadata": {},
   "outputs": [],
   "source": [
    "import pandas as pd\n",
    "import numpy as np\n",
    "import matplotlib.pyplot as plt"
   ]
  },
  {
   "cell_type": "code",
   "execution_count": 2,
   "id": "84c361f3-bae2-4c08-85cb-265dafd26a95",
   "metadata": {},
   "outputs": [],
   "source": [
    "data=pd.read_csv(\"..\\\\datasets\\\\16-spam-detection-using-tensorflow\\\\SPAM text message 20170820 - Data.csv\")\n",
    "# data source : https://www.kaggle.com/datasets/team-ai/spam-text-message-classification/data"
   ]
  },
  {
   "cell_type": "code",
   "execution_count": 3,
   "id": "24685928-9be2-4201-952b-90e425bad42c",
   "metadata": {},
   "outputs": [
    {
     "data": {
      "text/html": [
       "<div>\n",
       "<style scoped>\n",
       "    .dataframe tbody tr th:only-of-type {\n",
       "        vertical-align: middle;\n",
       "    }\n",
       "\n",
       "    .dataframe tbody tr th {\n",
       "        vertical-align: top;\n",
       "    }\n",
       "\n",
       "    .dataframe thead th {\n",
       "        text-align: right;\n",
       "    }\n",
       "</style>\n",
       "<table border=\"1\" class=\"dataframe\">\n",
       "  <thead>\n",
       "    <tr style=\"text-align: right;\">\n",
       "      <th></th>\n",
       "      <th>Category</th>\n",
       "      <th>Message</th>\n",
       "    </tr>\n",
       "  </thead>\n",
       "  <tbody>\n",
       "    <tr>\n",
       "      <th>0</th>\n",
       "      <td>ham</td>\n",
       "      <td>Go until jurong point, crazy.. Available only ...</td>\n",
       "    </tr>\n",
       "    <tr>\n",
       "      <th>1</th>\n",
       "      <td>ham</td>\n",
       "      <td>Ok lar... Joking wif u oni...</td>\n",
       "    </tr>\n",
       "    <tr>\n",
       "      <th>2</th>\n",
       "      <td>spam</td>\n",
       "      <td>Free entry in 2 a wkly comp to win FA Cup fina...</td>\n",
       "    </tr>\n",
       "    <tr>\n",
       "      <th>3</th>\n",
       "      <td>ham</td>\n",
       "      <td>U dun say so early hor... U c already then say...</td>\n",
       "    </tr>\n",
       "    <tr>\n",
       "      <th>4</th>\n",
       "      <td>ham</td>\n",
       "      <td>Nah I don't think he goes to usf, he lives aro...</td>\n",
       "    </tr>\n",
       "  </tbody>\n",
       "</table>\n",
       "</div>"
      ],
      "text/plain": [
       "  Category                                            Message\n",
       "0      ham  Go until jurong point, crazy.. Available only ...\n",
       "1      ham                      Ok lar... Joking wif u oni...\n",
       "2     spam  Free entry in 2 a wkly comp to win FA Cup fina...\n",
       "3      ham  U dun say so early hor... U c already then say...\n",
       "4      ham  Nah I don't think he goes to usf, he lives aro..."
      ]
     },
     "execution_count": 3,
     "metadata": {},
     "output_type": "execute_result"
    }
   ],
   "source": [
    "data.head()"
   ]
  },
  {
   "cell_type": "code",
   "execution_count": 4,
   "id": "877fa8cb-9f47-4c73-9fad-047914854a3b",
   "metadata": {},
   "outputs": [
    {
     "data": {
      "image/png": "[encoded data removed]",
      "text/plain": [
       "<Figure size 640x480 with 1 Axes>"
      ]
     },
     "metadata": {},
     "output_type": "display_data"
    }
   ],
   "source": [
    "category_df=data['Category'].value_counts().plot(kind='pie',autopct='%1.1f%%',explode=(0.1,0))"
   ]
  },
  {
   "cell_type": "code",
   "execution_count": 5,
   "id": "d67a5b0d-984f-41d1-b906-74000cc8e203",
   "metadata": {},
   "outputs": [
    {
     "name": "stderr",
     "output_type": "stream",
     "text": [
      "[nltk_data] Downloading package stopwords to\n",
      "[nltk_data]     C:\\Users\\shich\\AppData\\Roaming\\nltk_data...\n",
      "[nltk_data]   Package stopwords is already up-to-date!\n"
     ]
    }
   ],
   "source": [
    "import nltk\n",
    "import re\n",
    "from nltk.corpus import stopwords\n",
    "import string\n",
    "\n",
    "nltk.download('stopwords')\n",
    "stemmer=nltk.SnowballStemmer('english')\n",
    "stopword=set(stopwords.words('english'))\n",
    "def clean(text):\n",
    "    text = str(text).lower() #lower case all text\n",
    "    text = re.sub('\\[.*?\\]', '', text) # remove all characters between []\n",
    "    text = re.sub('https?://\\S+|www\\.\\S+', '', text) # remove URLs\n",
    "    text = re.sub('<.*?>+', '', text) # remove all characters between <>\n",
    "    text = re.sub('[%s]' % re.escape(string.punctuation), '', text) # remove punctuation\n",
    "    text = re.sub('\\n', '', text) # remove line breaker\n",
    "    text = re.sub('\\w*\\d\\w*', '', text) # remove word with numbers\n",
    "    text = [word for word in text.split(' ') if word not in stopword] # remove word if in stopword\n",
    "    text=\" \".join(text)\n",
    "    text = [stemmer.stem(word) for word in text.split(' ')] #stemming\n",
    "    text=\" \".join(text)\n",
    "    return text"
   ]
  },
  {
   "cell_type": "code",
   "execution_count": 6,
   "id": "8aba6205-8b1e-4486-817d-5eff0dd274ed",
   "metadata": {},
   "outputs": [],
   "source": [
    "#data['Message']=data['Message'].apply(clean)"
   ]
  },
  {
   "cell_type": "code",
   "execution_count": 7,
   "id": "867ef126-00b2-467e-9e43-4fb701282d64",
   "metadata": {},
   "outputs": [
    {
     "data": {
      "text/html": [
       "<style type=\"text/css\">\n",
       "#T_f93b1_row0_col0 {\n",
       "  background-color: #67000d;\n",
       "  color: #f1f1f1;\n",
       "}\n",
       "#T_f93b1_row0_col1 {\n",
       "  background-color: #f96245;\n",
       "  color: #f1f1f1;\n",
       "}\n",
       "#T_f93b1_row0_col2 {\n",
       "  background-color: #fdcebb;\n",
       "  color: #000000;\n",
       "}\n",
       "#T_f93b1_row0_col3 {\n",
       "  background-color: #fdd0bc;\n",
       "  color: #000000;\n",
       "}\n",
       "#T_f93b1_row0_col4 {\n",
       "  background-color: #fdd1be;\n",
       "  color: #000000;\n",
       "}\n",
       "#T_f93b1_row0_col5 {\n",
       "  background-color: #fdd5c4;\n",
       "  color: #000000;\n",
       "}\n",
       "#T_f93b1_row0_col6, #T_f93b1_row0_col7 {\n",
       "  background-color: #fed9c9;\n",
       "  color: #000000;\n",
       "}\n",
       "#T_f93b1_row0_col8 {\n",
       "  background-color: #fedccd;\n",
       "  color: #000000;\n",
       "}\n",
       "#T_f93b1_row0_col9 {\n",
       "  background-color: #fee5d9;\n",
       "  color: #000000;\n",
       "}\n",
       "#T_f93b1_row0_col10, #T_f93b1_row0_col11 {\n",
       "  background-color: #fee7dc;\n",
       "  color: #000000;\n",
       "}\n",
       "#T_f93b1_row0_col12 {\n",
       "  background-color: #feeae1;\n",
       "  color: #000000;\n",
       "}\n",
       "#T_f93b1_row0_col13 {\n",
       "  background-color: #ffece4;\n",
       "  color: #000000;\n",
       "}\n",
       "#T_f93b1_row0_col14 {\n",
       "  background-color: #ffeee6;\n",
       "  color: #000000;\n",
       "}\n",
       "#T_f93b1_row0_col15 {\n",
       "  background-color: #fff0e9;\n",
       "  color: #000000;\n",
       "}\n",
       "#T_f93b1_row0_col16 {\n",
       "  background-color: #fff2ec;\n",
       "  color: #000000;\n",
       "}\n",
       "#T_f93b1_row0_col17 {\n",
       "  background-color: #fff4ee;\n",
       "  color: #000000;\n",
       "}\n",
       "#T_f93b1_row0_col18, #T_f93b1_row0_col19 {\n",
       "  background-color: #fff5f0;\n",
       "  color: #000000;\n",
       "}\n",
       "</style>\n",
       "<table id=\"T_f93b1\">\n",
       "  <thead>\n",
       "    <tr>\n",
       "      <th class=\"index_name level0\" >0</th>\n",
       "      <th id=\"T_f93b1_level0_col0\" class=\"col_heading level0 col0\" >('to',)</th>\n",
       "      <th id=\"T_f93b1_level0_col1\" class=\"col_heading level0 col1\" >('a',)</th>\n",
       "      <th id=\"T_f93b1_level0_col2\" class=\"col_heading level0 col2\" >('your',)</th>\n",
       "      <th id=\"T_f93b1_level0_col3\" class=\"col_heading level0 col3\" >('or',)</th>\n",
       "      <th id=\"T_f93b1_level0_col4\" class=\"col_heading level0 col4\" >('call',)</th>\n",
       "      <th id=\"T_f93b1_level0_col5\" class=\"col_heading level0 col5\" >('the',)</th>\n",
       "      <th id=\"T_f93b1_level0_col6\" class=\"col_heading level0 col6\" >('2',)</th>\n",
       "      <th id=\"T_f93b1_level0_col7\" class=\"col_heading level0 col7\" >('for',)</th>\n",
       "      <th id=\"T_f93b1_level0_col8\" class=\"col_heading level0 col8\" >('you',)</th>\n",
       "      <th id=\"T_f93b1_level0_col9\" class=\"col_heading level0 col9\" >('is',)</th>\n",
       "      <th id=\"T_f93b1_level0_col10\" class=\"col_heading level0 col10\" >('Call',)</th>\n",
       "      <th id=\"T_f93b1_level0_col11\" class=\"col_heading level0 col11\" >('on',)</th>\n",
       "      <th id=\"T_f93b1_level0_col12\" class=\"col_heading level0 col12\" >('have',)</th>\n",
       "      <th id=\"T_f93b1_level0_col13\" class=\"col_heading level0 col13\" >('and',)</th>\n",
       "      <th id=\"T_f93b1_level0_col14\" class=\"col_heading level0 col14\" >('from',)</th>\n",
       "      <th id=\"T_f93b1_level0_col15\" class=\"col_heading level0 col15\" >('ur',)</th>\n",
       "      <th id=\"T_f93b1_level0_col16\" class=\"col_heading level0 col16\" >('with',)</th>\n",
       "      <th id=\"T_f93b1_level0_col17\" class=\"col_heading level0 col17\" >('&',)</th>\n",
       "      <th id=\"T_f93b1_level0_col18\" class=\"col_heading level0 col18\" >('4',)</th>\n",
       "      <th id=\"T_f93b1_level0_col19\" class=\"col_heading level0 col19\" >('of',)</th>\n",
       "    </tr>\n",
       "  </thead>\n",
       "  <tbody>\n",
       "    <tr>\n",
       "      <th id=\"T_f93b1_level0_row0\" class=\"row_heading level0 row0\" >count</th>\n",
       "      <td id=\"T_f93b1_row0_col0\" class=\"data row0 col0\" >604</td>\n",
       "      <td id=\"T_f93b1_row0_col1\" class=\"data row0 col1\" >360</td>\n",
       "      <td id=\"T_f93b1_row0_col2\" class=\"data row0 col2\" >187</td>\n",
       "      <td id=\"T_f93b1_row0_col3\" class=\"data row0 col3\" >185</td>\n",
       "      <td id=\"T_f93b1_row0_col4\" class=\"data row0 col4\" >183</td>\n",
       "      <td id=\"T_f93b1_row0_col5\" class=\"data row0 col5\" >175</td>\n",
       "      <td id=\"T_f93b1_row0_col6\" class=\"data row0 col6\" >169</td>\n",
       "      <td id=\"T_f93b1_row0_col7\" class=\"data row0 col7\" >169</td>\n",
       "      <td id=\"T_f93b1_row0_col8\" class=\"data row0 col8\" >164</td>\n",
       "      <td id=\"T_f93b1_row0_col9\" class=\"data row0 col9\" >142</td>\n",
       "      <td id=\"T_f93b1_row0_col10\" class=\"data row0 col10\" >136</td>\n",
       "      <td id=\"T_f93b1_row0_col11\" class=\"data row0 col11\" >136</td>\n",
       "      <td id=\"T_f93b1_row0_col12\" class=\"data row0 col12\" >125</td>\n",
       "      <td id=\"T_f93b1_row0_col13\" class=\"data row0 col13\" >119</td>\n",
       "      <td id=\"T_f93b1_row0_col14\" class=\"data row0 col14\" >116</td>\n",
       "      <td id=\"T_f93b1_row0_col15\" class=\"data row0 col15\" >107</td>\n",
       "      <td id=\"T_f93b1_row0_col16\" class=\"data row0 col16\" >101</td>\n",
       "      <td id=\"T_f93b1_row0_col17\" class=\"data row0 col17\" >98</td>\n",
       "      <td id=\"T_f93b1_row0_col18\" class=\"data row0 col18\" >93</td>\n",
       "      <td id=\"T_f93b1_row0_col19\" class=\"data row0 col19\" >93</td>\n",
       "    </tr>\n",
       "  </tbody>\n",
       "</table>\n"
      ],
      "text/plain": [
       "<pandas.io.formats.style.Styler at 0x26ace947670>"
      ]
     },
     "execution_count": 7,
     "metadata": {},
     "output_type": "execute_result"
    }
   ],
   "source": [
    "spam_word_array=[]\n",
    "for m in data[data['Category']=='spam']['Message'].to_list():\n",
    "    for word in m.split():\n",
    "        spam_word_array.append(word)\n",
    "df=pd.DataFrame(spam_word_array).value_counts().to_frame().head(20)\n",
    "df.T.style.background_gradient(cmap='Reds',axis=1)"
   ]
  },
  {
   "cell_type": "code",
   "execution_count": 8,
   "id": "bf2b7654-eb06-4f93-b3aa-5d1df0196acf",
   "metadata": {},
   "outputs": [
    {
     "data": {
      "text/html": [
       "<style type=\"text/css\">\n",
       "#T_5c635_row0_col0 {\n",
       "  background-color: #08306b;\n",
       "  color: #f1f1f1;\n",
       "}\n",
       "#T_5c635_row0_col1 {\n",
       "  background-color: #084184;\n",
       "  color: #f1f1f1;\n",
       "}\n",
       "#T_5c635_row0_col2 {\n",
       "  background-color: #08468b;\n",
       "  color: #f1f1f1;\n",
       "}\n",
       "#T_5c635_row0_col3 {\n",
       "  background-color: #529dcc;\n",
       "  color: #f1f1f1;\n",
       "}\n",
       "#T_5c635_row0_col4 {\n",
       "  background-color: #60a7d2;\n",
       "  color: #f1f1f1;\n",
       "}\n",
       "#T_5c635_row0_col5, #T_5c635_row0_col6 {\n",
       "  background-color: #aacfe5;\n",
       "  color: #000000;\n",
       "}\n",
       "#T_5c635_row0_col7 {\n",
       "  background-color: #abd0e6;\n",
       "  color: #000000;\n",
       "}\n",
       "#T_5c635_row0_col8 {\n",
       "  background-color: #c2d9ee;\n",
       "  color: #000000;\n",
       "}\n",
       "#T_5c635_row0_col9 {\n",
       "  background-color: #c3daee;\n",
       "  color: #000000;\n",
       "}\n",
       "#T_5c635_row0_col10 {\n",
       "  background-color: #c8dcf0;\n",
       "  color: #000000;\n",
       "}\n",
       "#T_5c635_row0_col11 {\n",
       "  background-color: #d5e5f4;\n",
       "  color: #000000;\n",
       "}\n",
       "#T_5c635_row0_col12 {\n",
       "  background-color: #dce9f6;\n",
       "  color: #000000;\n",
       "}\n",
       "#T_5c635_row0_col13 {\n",
       "  background-color: #dfebf7;\n",
       "  color: #000000;\n",
       "}\n",
       "#T_5c635_row0_col14 {\n",
       "  background-color: #edf4fc;\n",
       "  color: #000000;\n",
       "}\n",
       "#T_5c635_row0_col15, #T_5c635_row0_col16 {\n",
       "  background-color: #f1f7fd;\n",
       "  color: #000000;\n",
       "}\n",
       "#T_5c635_row0_col17, #T_5c635_row0_col18 {\n",
       "  background-color: #f5f9fe;\n",
       "  color: #000000;\n",
       "}\n",
       "#T_5c635_row0_col19 {\n",
       "  background-color: #f7fbff;\n",
       "  color: #000000;\n",
       "}\n",
       "</style>\n",
       "<table id=\"T_5c635\">\n",
       "  <thead>\n",
       "    <tr>\n",
       "      <th class=\"index_name level0\" >0</th>\n",
       "      <th id=\"T_5c635_level0_col0\" class=\"col_heading level0 col0\" >('to',)</th>\n",
       "      <th id=\"T_5c635_level0_col1\" class=\"col_heading level0 col1\" >('you',)</th>\n",
       "      <th id=\"T_5c635_level0_col2\" class=\"col_heading level0 col2\" >('I',)</th>\n",
       "      <th id=\"T_5c635_level0_col3\" class=\"col_heading level0 col3\" >('the',)</th>\n",
       "      <th id=\"T_5c635_level0_col4\" class=\"col_heading level0 col4\" >('a',)</th>\n",
       "      <th id=\"T_5c635_level0_col5\" class=\"col_heading level0 col5\" >('i',)</th>\n",
       "      <th id=\"T_5c635_level0_col6\" class=\"col_heading level0 col6\" >('and',)</th>\n",
       "      <th id=\"T_5c635_level0_col7\" class=\"col_heading level0 col7\" >('in',)</th>\n",
       "      <th id=\"T_5c635_level0_col8\" class=\"col_heading level0 col8\" >('u',)</th>\n",
       "      <th id=\"T_5c635_level0_col9\" class=\"col_heading level0 col9\" >('is',)</th>\n",
       "      <th id=\"T_5c635_level0_col10\" class=\"col_heading level0 col10\" >('my',)</th>\n",
       "      <th id=\"T_5c635_level0_col11\" class=\"col_heading level0 col11\" >('me',)</th>\n",
       "      <th id=\"T_5c635_level0_col12\" class=\"col_heading level0 col12\" >('of',)</th>\n",
       "      <th id=\"T_5c635_level0_col13\" class=\"col_heading level0 col13\" >('for',)</th>\n",
       "      <th id=\"T_5c635_level0_col14\" class=\"col_heading level0 col14\" >('that',)</th>\n",
       "      <th id=\"T_5c635_level0_col15\" class=\"col_heading level0 col15\" >('it',)</th>\n",
       "      <th id=\"T_5c635_level0_col16\" class=\"col_heading level0 col16\" >('your',)</th>\n",
       "      <th id=\"T_5c635_level0_col17\" class=\"col_heading level0 col17\" >('on',)</th>\n",
       "      <th id=\"T_5c635_level0_col18\" class=\"col_heading level0 col18\" >('have',)</th>\n",
       "      <th id=\"T_5c635_level0_col19\" class=\"col_heading level0 col19\" >('at',)</th>\n",
       "    </tr>\n",
       "  </thead>\n",
       "  <tbody>\n",
       "    <tr>\n",
       "      <th id=\"T_5c635_level0_row0\" class=\"row_heading level0 row0\" >count</th>\n",
       "      <td id=\"T_5c635_row0_col0\" class=\"data row0 col0\" >1538</td>\n",
       "      <td id=\"T_5c635_row0_col1\" class=\"data row0 col1\" >1462</td>\n",
       "      <td id=\"T_5c635_row0_col2\" class=\"data row0 col2\" >1439</td>\n",
       "      <td id=\"T_5c635_row0_col3\" class=\"data row0 col3\" >1029</td>\n",
       "      <td id=\"T_5c635_row0_col4\" class=\"data row0 col4\" >977</td>\n",
       "      <td id=\"T_5c635_row0_col5\" class=\"data row0 col5\" >742</td>\n",
       "      <td id=\"T_5c635_row0_col6\" class=\"data row0 col6\" >739</td>\n",
       "      <td id=\"T_5c635_row0_col7\" class=\"data row0 col7\" >736</td>\n",
       "      <td id=\"T_5c635_row0_col8\" class=\"data row0 col8\" >651</td>\n",
       "      <td id=\"T_5c635_row0_col9\" class=\"data row0 col9\" >645</td>\n",
       "      <td id=\"T_5c635_row0_col10\" class=\"data row0 col10\" >621</td>\n",
       "      <td id=\"T_5c635_row0_col11\" class=\"data row0 col11\" >541</td>\n",
       "      <td id=\"T_5c635_row0_col12\" class=\"data row0 col12\" >499</td>\n",
       "      <td id=\"T_5c635_row0_col13\" class=\"data row0 col13\" >481</td>\n",
       "      <td id=\"T_5c635_row0_col14\" class=\"data row0 col14\" >399</td>\n",
       "      <td id=\"T_5c635_row0_col15\" class=\"data row0 col15\" >376</td>\n",
       "      <td id=\"T_5c635_row0_col16\" class=\"data row0 col16\" >374</td>\n",
       "      <td id=\"T_5c635_row0_col17\" class=\"data row0 col17\" >352</td>\n",
       "      <td id=\"T_5c635_row0_col18\" class=\"data row0 col18\" >349</td>\n",
       "      <td id=\"T_5c635_row0_col19\" class=\"data row0 col19\" >334</td>\n",
       "    </tr>\n",
       "  </tbody>\n",
       "</table>\n"
      ],
      "text/plain": [
       "<pandas.io.formats.style.Styler at 0x26ad326f070>"
      ]
     },
     "execution_count": 8,
     "metadata": {},
     "output_type": "execute_result"
    }
   ],
   "source": [
    "ham_word_array=[]\n",
    "for m in data[data['Category']=='ham']['Message'].to_list():\n",
    "    for word in m.split():\n",
    "        ham_word_array.append(word)\n",
    "df=pd.DataFrame(ham_word_array).value_counts().to_frame().head(20)\n",
    "df.T.style.background_gradient(cmap='Blues',axis=1)"
   ]
  },
  {
   "cell_type": "code",
   "execution_count": 9,
   "id": "24fa49fc-cd92-4e12-82a8-4e9708f8df96",
   "metadata": {},
   "outputs": [
    {
     "data": {
      "text/plain": [
       "15686"
      ]
     },
     "execution_count": 9,
     "metadata": {},
     "output_type": "execute_result"
    }
   ],
   "source": [
    "MAX_WORDS=pd.DataFrame(spam_word_array+ham_word_array).nunique()[0]\n",
    "MAX_WORDS"
   ]
  },
  {
   "cell_type": "code",
   "execution_count": 10,
   "id": "4a6419af-f921-4a7c-afeb-be101768a80f",
   "metadata": {},
   "outputs": [],
   "source": [
    "data['Message_length']=data['Message'].apply(len)"
   ]
  },
  {
   "cell_type": "code",
   "execution_count": 11,
   "id": "4987c7ec-e651-4752-97b9-4d5274345b5c",
   "metadata": {},
   "outputs": [
    {
     "data": {
      "text/plain": [
       "910"
      ]
     },
     "execution_count": 11,
     "metadata": {},
     "output_type": "execute_result"
    }
   ],
   "source": [
    "MAX_LEN=data['Message_length'].max()\n",
    "MAX_LEN"
   ]
  },
  {
   "cell_type": "code",
   "execution_count": 12,
   "id": "a5ed2fc8-9885-4cf7-a8c6-09f13d422d9f",
   "metadata": {},
   "outputs": [
    {
     "data": {
      "text/plain": [
       "62"
      ]
     },
     "execution_count": 12,
     "metadata": {},
     "output_type": "execute_result"
    }
   ],
   "source": [
    "import math\n",
    "embedding_dim = int(math.sqrt(MAX_WORDS) / 2)\n",
    "embedding_dim"
   ]
  },
  {
   "cell_type": "code",
   "execution_count": 13,
   "id": "5e5cb929-dedf-4a56-b93c-721e84551d8b",
   "metadata": {},
   "outputs": [
    {
     "name": "stdout",
     "output_type": "stream",
     "text": [
      "Shape of data tensor: (5572, 910)\n"
     ]
    }
   ],
   "source": [
    "from tensorflow.keras.preprocessing.text import Tokenizer\n",
    "from tensorflow.keras.preprocessing.sequence import pad_sequences\n",
    "\n",
    "tokenizer = Tokenizer(num_words=MAX_WORDS)\n",
    "tokenizer.fit_on_texts(data['Message'].values)\n",
    "word_index=tokenizer.word_index\n",
    "\n",
    "X = tokenizer.texts_to_sequences(data['Message'].values)\n",
    "X = pad_sequences(X, maxlen=MAX_LEN)\n",
    "print('Shape of data tensor:', X.shape)"
   ]
  },
  {
   "cell_type": "code",
   "execution_count": 14,
   "id": "9bd7efaa-7809-4c59-87f5-08b922ebccd1",
   "metadata": {},
   "outputs": [
    {
     "name": "stdout",
     "output_type": "stream",
     "text": [
      "Shape of label tensor: (5572,)\n"
     ]
    }
   ],
   "source": [
    "from sklearn import preprocessing\n",
    "labelencoder = preprocessing.LabelEncoder()\n",
    "data['Category'] = labelencoder.fit_transform(data['Category'])\n",
    "Y = data['Category'].values\n",
    "print('Shape of label tensor:', Y.shape)"
   ]
  },
  {
   "cell_type": "code",
   "execution_count": 15,
   "id": "c319c471-591b-4c8b-b2e1-65ed62d47811",
   "metadata": {},
   "outputs": [
    {
     "name": "stdout",
     "output_type": "stream",
     "text": [
      "(3900, 910) (3900,)\n",
      "(1672, 910) (1672,)\n"
     ]
    }
   ],
   "source": [
    "from sklearn.model_selection import train_test_split\n",
    "X_train, X_test, Y_train, Y_test = train_test_split(X,Y, test_size = 0.3, random_state = 42)\n",
    "print(X_train.shape,Y_train.shape)\n",
    "print(X_test.shape,Y_test.shape)"
   ]
  },
  {
   "cell_type": "code",
   "execution_count": 16,
   "id": "e2017038-94be-4205-8462-10029ff9344a",
   "metadata": {},
   "outputs": [],
   "source": [
    "import tensorflow as tf\n",
    "model = tf.keras.Sequential()\n",
    "model.add(tf.keras.layers.Embedding(input_dim=MAX_WORDS,output_dim = embedding_dim))\n",
    "#model.add(tf.keras.layers.LSTM(128, return_sequences=True))\n",
    "model.add(tf.keras.layers.Dropout(0.2))\n",
    "model.add(tf.keras.layers.Dense(128, activation=\"relu\"))\n",
    "model.add(tf.keras.layers.Dropout(0.25))\n",
    "model.add(tf.keras.layers.Flatten())\n",
    "model.add(tf.keras.layers.Dense(1, activation='sigmoid'))\n",
    "model.compile(loss='binary_crossentropy', optimizer=tf.keras.optimizers.Adam(), metrics=['accuracy'])"
   ]
  },
  {
   "cell_type": "code",
   "execution_count": 17,
   "id": "b8483d63-98f8-47b4-8909-d09ca42549a3",
   "metadata": {},
   "outputs": [
    {
     "data": {
      "text/html": [
       "<pre style=\"white-space:pre;overflow-x:auto;line-height:normal;font-family:Menlo,'DejaVu Sans Mono',consolas,'Courier New',monospace\"><span style=\"font-weight: bold\">Model: \"sequential\"</span>\n",
       "</pre>\n"
      ],
      "text/plain": [
       "\u001b[1mModel: \"sequential\"\u001b[0m\n"
      ]
     },
     "metadata": {},
     "output_type": "display_data"
    },
    {
     "data": {
      "text/html": [
       "<pre style=\"white-space:pre;overflow-x:auto;line-height:normal;font-family:Menlo,'DejaVu Sans Mono',consolas,'Courier New',monospace\">┏━━━━━━━━━━━━━━━━━━━━━━━━━━━━━━━━━━━━━━┳━━━━━━━━━━━━━━━━━━━━━━━━━━━━━┳━━━━━━━━━━━━━━━━━┓\n",
       "┃<span style=\"font-weight: bold\"> Layer (type)                         </span>┃<span style=\"font-weight: bold\"> Output Shape                </span>┃<span style=\"font-weight: bold\">         Param # </span>┃\n",
       "┡━━━━━━━━━━━━━━━━━━━━━━━━━━━━━━━━━━━━━━╇━━━━━━━━━━━━━━━━━━━━━━━━━━━━━╇━━━━━━━━━━━━━━━━━┩\n",
       "│ embedding (<span style=\"color: #0087ff; text-decoration-color: #0087ff\">Embedding</span>)                │ ?                           │     <span style=\"color: #00af00; text-decoration-color: #00af00\">0</span> (unbuilt) │\n",
       "├──────────────────────────────────────┼─────────────────────────────┼─────────────────┤\n",
       "│ dropout (<span style=\"color: #0087ff; text-decoration-color: #0087ff\">Dropout</span>)                    │ ?                           │     <span style=\"color: #00af00; text-decoration-color: #00af00\">0</span> (unbuilt) │\n",
       "├──────────────────────────────────────┼─────────────────────────────┼─────────────────┤\n",
       "│ dense (<span style=\"color: #0087ff; text-decoration-color: #0087ff\">Dense</span>)                        │ ?                           │     <span style=\"color: #00af00; text-decoration-color: #00af00\">0</span> (unbuilt) │\n",
       "├──────────────────────────────────────┼─────────────────────────────┼─────────────────┤\n",
       "│ dropout_1 (<span style=\"color: #0087ff; text-decoration-color: #0087ff\">Dropout</span>)                  │ ?                           │     <span style=\"color: #00af00; text-decoration-color: #00af00\">0</span> (unbuilt) │\n",
       "├──────────────────────────────────────┼─────────────────────────────┼─────────────────┤\n",
       "│ flatten (<span style=\"color: #0087ff; text-decoration-color: #0087ff\">Flatten</span>)                    │ ?                           │     <span style=\"color: #00af00; text-decoration-color: #00af00\">0</span> (unbuilt) │\n",
       "├──────────────────────────────────────┼─────────────────────────────┼─────────────────┤\n",
       "│ dense_1 (<span style=\"color: #0087ff; text-decoration-color: #0087ff\">Dense</span>)                      │ ?                           │     <span style=\"color: #00af00; text-decoration-color: #00af00\">0</span> (unbuilt) │\n",
       "└──────────────────────────────────────┴─────────────────────────────┴─────────────────┘\n",
       "</pre>\n"
      ],
      "text/plain": [
       "┏━━━━━━━━━━━━━━━━━━━━━━━━━━━━━━━━━━━━━━┳━━━━━━━━━━━━━━━━━━━━━━━━━━━━━┳━━━━━━━━━━━━━━━━━┓\n",
       "┃\u001b[1m \u001b[0m\u001b[1mLayer (type)                        \u001b[0m\u001b[1m \u001b[0m┃\u001b[1m \u001b[0m\u001b[1mOutput Shape               \u001b[0m\u001b[1m \u001b[0m┃\u001b[1m \u001b[0m\u001b[1m        Param #\u001b[0m\u001b[1m \u001b[0m┃\n",
       "┡━━━━━━━━━━━━━━━━━━━━━━━━━━━━━━━━━━━━━━╇━━━━━━━━━━━━━━━━━━━━━━━━━━━━━╇━━━━━━━━━━━━━━━━━┩\n",
       "│ embedding (\u001b[38;5;33mEmbedding\u001b[0m)                │ ?                           │     \u001b[38;5;34m0\u001b[0m (unbuilt) │\n",
       "├──────────────────────────────────────┼─────────────────────────────┼─────────────────┤\n",
       "│ dropout (\u001b[38;5;33mDropout\u001b[0m)                    │ ?                           │     \u001b[38;5;34m0\u001b[0m (unbuilt) │\n",
       "├──────────────────────────────────────┼─────────────────────────────┼─────────────────┤\n",
       "│ dense (\u001b[38;5;33mDense\u001b[0m)                        │ ?                           │     \u001b[38;5;34m0\u001b[0m (unbuilt) │\n",
       "├──────────────────────────────────────┼─────────────────────────────┼─────────────────┤\n",
       "│ dropout_1 (\u001b[38;5;33mDropout\u001b[0m)                  │ ?                           │     \u001b[38;5;34m0\u001b[0m (unbuilt) │\n",
       "├──────────────────────────────────────┼─────────────────────────────┼─────────────────┤\n",
       "│ flatten (\u001b[38;5;33mFlatten\u001b[0m)                    │ ?                           │     \u001b[38;5;34m0\u001b[0m (unbuilt) │\n",
       "├──────────────────────────────────────┼─────────────────────────────┼─────────────────┤\n",
       "│ dense_1 (\u001b[38;5;33mDense\u001b[0m)                      │ ?                           │     \u001b[38;5;34m0\u001b[0m (unbuilt) │\n",
       "└──────────────────────────────────────┴─────────────────────────────┴─────────────────┘\n"
      ]
     },
     "metadata": {},
     "output_type": "display_data"
    },
    {
     "data": {
      "text/html": [
       "<pre style=\"white-space:pre;overflow-x:auto;line-height:normal;font-family:Menlo,'DejaVu Sans Mono',consolas,'Courier New',monospace\"><span style=\"font-weight: bold\"> Total params: </span><span style=\"color: #00af00; text-decoration-color: #00af00\">0</span> (0.00 B)\n",
       "</pre>\n"
      ],
      "text/plain": [
       "\u001b[1m Total params: \u001b[0m\u001b[38;5;34m0\u001b[0m (0.00 B)\n"
      ]
     },
     "metadata": {},
     "output_type": "display_data"
    },
    {
     "data": {
      "text/html": [
       "<pre style=\"white-space:pre;overflow-x:auto;line-height:normal;font-family:Menlo,'DejaVu Sans Mono',consolas,'Courier New',monospace\"><span style=\"font-weight: bold\"> Trainable params: </span><span style=\"color: #00af00; text-decoration-color: #00af00\">0</span> (0.00 B)\n",
       "</pre>\n"
      ],
      "text/plain": [
       "\u001b[1m Trainable params: \u001b[0m\u001b[38;5;34m0\u001b[0m (0.00 B)\n"
      ]
     },
     "metadata": {},
     "output_type": "display_data"
    },
    {
     "data": {
      "text/html": [
       "<pre style=\"white-space:pre;overflow-x:auto;line-height:normal;font-family:Menlo,'DejaVu Sans Mono',consolas,'Courier New',monospace\"><span style=\"font-weight: bold\"> Non-trainable params: </span><span style=\"color: #00af00; text-decoration-color: #00af00\">0</span> (0.00 B)\n",
       "</pre>\n"
      ],
      "text/plain": [
       "\u001b[1m Non-trainable params: \u001b[0m\u001b[38;5;34m0\u001b[0m (0.00 B)\n"
      ]
     },
     "metadata": {},
     "output_type": "display_data"
    }
   ],
   "source": [
    "model.summary()"
   ]
  },
  {
   "cell_type": "code",
   "execution_count": 18,
   "id": "56c903ec-4eba-4573-a72c-8eed1fcfbac8",
   "metadata": {},
   "outputs": [
    {
     "name": "stdout",
     "output_type": "stream",
     "text": [
      "Epoch 1/10\n",
      "122/122 - 3s - 21ms/step - accuracy: 0.8826 - loss: 0.3358 - val_accuracy: 0.9659 - val_loss: 0.1401\n",
      "Epoch 2/10\n",
      "122/122 - 3s - 25ms/step - accuracy: 0.9777 - loss: 0.0757 - val_accuracy: 0.9856 - val_loss: 0.0440\n",
      "Epoch 3/10\n",
      "122/122 - 5s - 40ms/step - accuracy: 0.9918 - loss: 0.0259 - val_accuracy: 0.9916 - val_loss: 0.0348\n",
      "Epoch 4/10\n",
      "122/122 - 5s - 41ms/step - accuracy: 0.9967 - loss: 0.0115 - val_accuracy: 0.9928 - val_loss: 0.0301\n",
      "Epoch 5/10\n",
      "122/122 - 5s - 40ms/step - accuracy: 0.9987 - loss: 0.0059 - val_accuracy: 0.9910 - val_loss: 0.0299\n",
      "Epoch 6/10\n",
      "122/122 - 5s - 40ms/step - accuracy: 0.9990 - loss: 0.0034 - val_accuracy: 0.9916 - val_loss: 0.0302\n",
      "Epoch 7/10\n",
      "122/122 - 5s - 43ms/step - accuracy: 0.9990 - loss: 0.0023 - val_accuracy: 0.9916 - val_loss: 0.0299\n"
     ]
    }
   ],
   "source": [
    "early_stop = tf.keras.callbacks.EarlyStopping(monitor='val_loss', patience=2)\n",
    "# Train the model\n",
    "epochs = 10\n",
    "history=model.fit(X_train, Y_train ,validation_data=(X_test, Y_test),epochs=epochs,callbacks=[early_stop],verbose=2)"
   ]
  },
  {
   "cell_type": "code",
   "execution_count": 19,
   "id": "5e94b7c9-04ad-4ba9-a6ec-53be0fef5f8f",
   "metadata": {},
   "outputs": [
    {
     "name": "stdout",
     "output_type": "stream",
     "text": [
      "\u001b[1m53/53\u001b[0m \u001b[32m━━━━━━━━━━━━━━━━━━━━\u001b[0m\u001b[37m\u001b[0m \u001b[1m0s\u001b[0m 7ms/step - accuracy: 0.9919 - loss: 0.0340\n"
     ]
    },
    {
     "data": {
      "text/plain": [
       "[0.02994546666741371, 0.9916267991065979]"
      ]
     },
     "execution_count": 19,
     "metadata": {},
     "output_type": "execute_result"
    }
   ],
   "source": [
    "model.evaluate(X_test, Y_test)"
   ]
  },
  {
   "cell_type": "code",
   "execution_count": 20,
   "id": "17835dd9-7be4-4404-89d1-e0f57f7deca9",
   "metadata": {},
   "outputs": [],
   "source": [
    "train_acc = history.history['accuracy']\n",
    "train_loss = history.history['loss']\n",
    "val_loss = history.history['val_loss']\n",
    "val_acc = history.history['val_accuracy']\n",
    "epoch = [i + 1 for i in range(len(train_acc))]"
   ]
  },
  {
   "cell_type": "code",
   "execution_count": 21,
   "id": "b9b9a629-e6a8-4dd4-b854-ceed739fd2f3",
   "metadata": {},
   "outputs": [
    {
     "data": {
      "text/html": [
       "<style type=\"text/css\">\n",
       "#T_3f8c4_row0_col0, #T_3f8c4_row0_col1, #T_3f8c4_row3_col3, #T_3f8c4_row4_col2, #T_3f8c4_row5_col2, #T_3f8c4_row6_col2, #T_3f8c4_row6_col4 {\n",
       "  width: 10em;\n",
       "  background: linear-gradient(90deg, #d65f5f 100.0%, transparent 100.0%);\n",
       "}\n",
       "#T_3f8c4_row0_col2 {\n",
       "  width: 10em;\n",
       "  background: linear-gradient(90deg, #d65f5f 88.3%, transparent 88.3%);\n",
       "}\n",
       "#T_3f8c4_row0_col3 {\n",
       "  width: 10em;\n",
       "  background: linear-gradient(90deg, #d65f5f 97.3%, transparent 97.3%);\n",
       "}\n",
       "#T_3f8c4_row0_col4 {\n",
       "  width: 10em;\n",
       "  background: linear-gradient(90deg, #d65f5f 14.3%, transparent 14.3%);\n",
       "}\n",
       "#T_3f8c4_row1_col0 {\n",
       "  width: 10em;\n",
       "  background: linear-gradient(90deg, #d65f5f 22.5%, transparent 22.5%);\n",
       "}\n",
       "#T_3f8c4_row1_col1 {\n",
       "  width: 10em;\n",
       "  background: linear-gradient(90deg, #d65f5f 31.4%, transparent 31.4%);\n",
       "}\n",
       "#T_3f8c4_row1_col2 {\n",
       "  width: 10em;\n",
       "  background: linear-gradient(90deg, #d65f5f 97.9%, transparent 97.9%);\n",
       "}\n",
       "#T_3f8c4_row1_col3, #T_3f8c4_row2_col2 {\n",
       "  width: 10em;\n",
       "  background: linear-gradient(90deg, #d65f5f 99.3%, transparent 99.3%);\n",
       "}\n",
       "#T_3f8c4_row1_col4 {\n",
       "  width: 10em;\n",
       "  background: linear-gradient(90deg, #d65f5f 28.6%, transparent 28.6%);\n",
       "}\n",
       "#T_3f8c4_row2_col0 {\n",
       "  width: 10em;\n",
       "  background: linear-gradient(90deg, #d65f5f 7.7%, transparent 7.7%);\n",
       "}\n",
       "#T_3f8c4_row2_col1 {\n",
       "  width: 10em;\n",
       "  background: linear-gradient(90deg, #d65f5f 24.8%, transparent 24.8%);\n",
       "}\n",
       "#T_3f8c4_row2_col3, #T_3f8c4_row5_col3, #T_3f8c4_row6_col3 {\n",
       "  width: 10em;\n",
       "  background: linear-gradient(90deg, #d65f5f 99.9%, transparent 99.9%);\n",
       "}\n",
       "#T_3f8c4_row2_col4 {\n",
       "  width: 10em;\n",
       "  background: linear-gradient(90deg, #d65f5f 42.9%, transparent 42.9%);\n",
       "}\n",
       "#T_3f8c4_row3_col0 {\n",
       "  width: 10em;\n",
       "  background: linear-gradient(90deg, #d65f5f 3.4%, transparent 3.4%);\n",
       "}\n",
       "#T_3f8c4_row3_col1 {\n",
       "  width: 10em;\n",
       "  background: linear-gradient(90deg, #d65f5f 21.5%, transparent 21.5%);\n",
       "}\n",
       "#T_3f8c4_row3_col2, #T_3f8c4_row4_col3 {\n",
       "  width: 10em;\n",
       "  background: linear-gradient(90deg, #d65f5f 99.8%, transparent 99.8%);\n",
       "}\n",
       "#T_3f8c4_row3_col4 {\n",
       "  width: 10em;\n",
       "  background: linear-gradient(90deg, #d65f5f 57.1%, transparent 57.1%);\n",
       "}\n",
       "#T_3f8c4_row4_col0 {\n",
       "  width: 10em;\n",
       "  background: linear-gradient(90deg, #d65f5f 1.8%, transparent 1.8%);\n",
       "}\n",
       "#T_3f8c4_row4_col1, #T_3f8c4_row6_col1 {\n",
       "  width: 10em;\n",
       "  background: linear-gradient(90deg, #d65f5f 21.4%, transparent 21.4%);\n",
       "}\n",
       "#T_3f8c4_row4_col4 {\n",
       "  width: 10em;\n",
       "  background: linear-gradient(90deg, #d65f5f 71.4%, transparent 71.4%);\n",
       "}\n",
       "#T_3f8c4_row5_col0 {\n",
       "  width: 10em;\n",
       "  background: linear-gradient(90deg, #d65f5f 1.0%, transparent 1.0%);\n",
       "}\n",
       "#T_3f8c4_row5_col1 {\n",
       "  width: 10em;\n",
       "  background: linear-gradient(90deg, #d65f5f 21.6%, transparent 21.6%);\n",
       "}\n",
       "#T_3f8c4_row5_col4 {\n",
       "  width: 10em;\n",
       "  background: linear-gradient(90deg, #d65f5f 85.7%, transparent 85.7%);\n",
       "}\n",
       "#T_3f8c4_row6_col0 {\n",
       "  width: 10em;\n",
       "  background: linear-gradient(90deg, #d65f5f 0.7%, transparent 0.7%);\n",
       "}\n",
       "</style>\n",
       "<table id=\"T_3f8c4\">\n",
       "  <thead>\n",
       "    <tr>\n",
       "      <th class=\"blank level0\" >&nbsp;</th>\n",
       "      <th id=\"T_3f8c4_level0_col0\" class=\"col_heading level0 col0\" >Training Loss</th>\n",
       "      <th id=\"T_3f8c4_level0_col1\" class=\"col_heading level0 col1\" >Validation Loss</th>\n",
       "      <th id=\"T_3f8c4_level0_col2\" class=\"col_heading level0 col2\" >Train Accuracy</th>\n",
       "      <th id=\"T_3f8c4_level0_col3\" class=\"col_heading level0 col3\" >Validation Accuracy</th>\n",
       "      <th id=\"T_3f8c4_level0_col4\" class=\"col_heading level0 col4\" >Epoch</th>\n",
       "    </tr>\n",
       "  </thead>\n",
       "  <tbody>\n",
       "    <tr>\n",
       "      <th id=\"T_3f8c4_level0_row0\" class=\"row_heading level0 row0\" >0</th>\n",
       "      <td id=\"T_3f8c4_row0_col0\" class=\"data row0 col0\" >0.335828</td>\n",
       "      <td id=\"T_3f8c4_row0_col1\" class=\"data row0 col1\" >0.140144</td>\n",
       "      <td id=\"T_3f8c4_row0_col2\" class=\"data row0 col2\" >0.882564</td>\n",
       "      <td id=\"T_3f8c4_row0_col3\" class=\"data row0 col3\" >0.965909</td>\n",
       "      <td id=\"T_3f8c4_row0_col4\" class=\"data row0 col4\" >1</td>\n",
       "    </tr>\n",
       "    <tr>\n",
       "      <th id=\"T_3f8c4_level0_row1\" class=\"row_heading level0 row1\" >1</th>\n",
       "      <td id=\"T_3f8c4_row1_col0\" class=\"data row1 col0\" >0.075727</td>\n",
       "      <td id=\"T_3f8c4_row1_col1\" class=\"data row1 col1\" >0.044017</td>\n",
       "      <td id=\"T_3f8c4_row1_col2\" class=\"data row1 col2\" >0.977692</td>\n",
       "      <td id=\"T_3f8c4_row1_col3\" class=\"data row1 col3\" >0.985646</td>\n",
       "      <td id=\"T_3f8c4_row1_col4\" class=\"data row1 col4\" >2</td>\n",
       "    </tr>\n",
       "    <tr>\n",
       "      <th id=\"T_3f8c4_level0_row2\" class=\"row_heading level0 row2\" >2</th>\n",
       "      <td id=\"T_3f8c4_row2_col0\" class=\"data row2 col0\" >0.025934</td>\n",
       "      <td id=\"T_3f8c4_row2_col1\" class=\"data row2 col1\" >0.034769</td>\n",
       "      <td id=\"T_3f8c4_row2_col2\" class=\"data row2 col2\" >0.991795</td>\n",
       "      <td id=\"T_3f8c4_row2_col3\" class=\"data row2 col3\" >0.991627</td>\n",
       "      <td id=\"T_3f8c4_row2_col4\" class=\"data row2 col4\" >3</td>\n",
       "    </tr>\n",
       "    <tr>\n",
       "      <th id=\"T_3f8c4_level0_row3\" class=\"row_heading level0 row3\" >3</th>\n",
       "      <td id=\"T_3f8c4_row3_col0\" class=\"data row3 col0\" >0.011529</td>\n",
       "      <td id=\"T_3f8c4_row3_col1\" class=\"data row3 col1\" >0.030064</td>\n",
       "      <td id=\"T_3f8c4_row3_col2\" class=\"data row3 col2\" >0.996667</td>\n",
       "      <td id=\"T_3f8c4_row3_col3\" class=\"data row3 col3\" >0.992823</td>\n",
       "      <td id=\"T_3f8c4_row3_col4\" class=\"data row3 col4\" >4</td>\n",
       "    </tr>\n",
       "    <tr>\n",
       "      <th id=\"T_3f8c4_level0_row4\" class=\"row_heading level0 row4\" >4</th>\n",
       "      <td id=\"T_3f8c4_row4_col0\" class=\"data row4 col0\" >0.005920</td>\n",
       "      <td id=\"T_3f8c4_row4_col1\" class=\"data row4 col1\" >0.029924</td>\n",
       "      <td id=\"T_3f8c4_row4_col2\" class=\"data row4 col2\" >0.998718</td>\n",
       "      <td id=\"T_3f8c4_row4_col3\" class=\"data row4 col3\" >0.991029</td>\n",
       "      <td id=\"T_3f8c4_row4_col4\" class=\"data row4 col4\" >5</td>\n",
       "    </tr>\n",
       "    <tr>\n",
       "      <th id=\"T_3f8c4_level0_row5\" class=\"row_heading level0 row5\" >5</th>\n",
       "      <td id=\"T_3f8c4_row5_col0\" class=\"data row5 col0\" >0.003439</td>\n",
       "      <td id=\"T_3f8c4_row5_col1\" class=\"data row5 col1\" >0.030206</td>\n",
       "      <td id=\"T_3f8c4_row5_col2\" class=\"data row5 col2\" >0.998974</td>\n",
       "      <td id=\"T_3f8c4_row5_col3\" class=\"data row5 col3\" >0.991627</td>\n",
       "      <td id=\"T_3f8c4_row5_col4\" class=\"data row5 col4\" >6</td>\n",
       "    </tr>\n",
       "    <tr>\n",
       "      <th id=\"T_3f8c4_level0_row6\" class=\"row_heading level0 row6\" >6</th>\n",
       "      <td id=\"T_3f8c4_row6_col0\" class=\"data row6 col0\" >0.002252</td>\n",
       "      <td id=\"T_3f8c4_row6_col1\" class=\"data row6 col1\" >0.029945</td>\n",
       "      <td id=\"T_3f8c4_row6_col2\" class=\"data row6 col2\" >0.998974</td>\n",
       "      <td id=\"T_3f8c4_row6_col3\" class=\"data row6 col3\" >0.991627</td>\n",
       "      <td id=\"T_3f8c4_row6_col4\" class=\"data row6 col4\" >7</td>\n",
       "    </tr>\n",
       "  </tbody>\n",
       "</table>\n"
      ],
      "text/plain": [
       "<pandas.io.formats.style.Styler at 0x26adb392260>"
      ]
     },
     "execution_count": 21,
     "metadata": {},
     "output_type": "execute_result"
    }
   ],
   "source": [
    "acc_loss_df = pd.DataFrame({\"Training Loss\" : train_loss,\n",
    "                            \"Validation Loss\": val_loss,\n",
    "                            \"Train Accuracy\" : train_acc,\n",
    "                            \"Validation Accuracy\" : val_acc,\n",
    "                            \"Epoch\":epoch})\n",
    "\n",
    "\n",
    "acc_loss_df.style.bar()"
   ]
  },
  {
   "cell_type": "code",
   "execution_count": 22,
   "id": "93e16a09-767a-486c-8c11-601571545544",
   "metadata": {},
   "outputs": [
    {
     "data": {
      "image/png": "[encoded data removed]",
      "text/plain": [
       "<Figure size 640x480 with 1 Axes>"
      ]
     },
     "metadata": {},
     "output_type": "display_data"
    }
   ],
   "source": [
    "fig = plt.figure()\n",
    "\n",
    "plt.plot(acc_loss_df['Epoch'],acc_loss_df['Train Accuracy'],label='Training Accuracy')\n",
    "plt.plot(acc_loss_df['Epoch'],acc_loss_df['Validation Accuracy'],label = 'Validation Accuracy')\n",
    "plt.title('Training Accuracy Vs Validation Accuracy')\n",
    "plt.xlabel('Epoch')\n",
    "plt.ylabel('Accuracy')\n",
    "plt.legend()\n",
    "plt.show()\n"
   ]
  },
  {
   "cell_type": "code",
   "execution_count": 23,
   "id": "803232d7-8f04-45eb-b45a-c2aedeb932ec",
   "metadata": {},
   "outputs": [
    {
     "data": {
      "image/png": "[encoded data removed]",
      "text/plain": [
       "<Figure size 640x480 with 1 Axes>"
      ]
     },
     "metadata": {},
     "output_type": "display_data"
    }
   ],
   "source": [
    "fig = plt.figure()\n",
    "\n",
    "plt.plot(acc_loss_df['Epoch'],acc_loss_df['Training Loss'],label='Training Loss')\n",
    "\n",
    "plt.plot(acc_loss_df['Epoch'],acc_loss_df['Validation Loss'],label= 'Validation Loss')\n",
    "\n",
    "plt.title('Training Loss Vs Validation Loss')\n",
    "plt.xlabel('Epoch')\n",
    "plt.ylabel('Loss')\n",
    "plt.legend()\n",
    "plt.show()\n"
   ]
  },
  {
   "cell_type": "code",
   "execution_count": 24,
   "id": "c44fbe02-174b-41cf-9d1d-8fcaeafe7053",
   "metadata": {},
   "outputs": [
    {
     "name": "stdout",
     "output_type": "stream",
     "text": [
      "53/53 - 0s - 8ms/step\n"
     ]
    }
   ],
   "source": [
    "threshold = 0.5\n",
    "result = model.predict(X_test, verbose=2)\n",
    "result = result > threshold\n",
    "result = result.astype(\"int32\")"
   ]
  },
  {
   "cell_type": "code",
   "execution_count": 25,
   "id": "a53c9e97-d7e9-4888-b366-d6a7669db825",
   "metadata": {},
   "outputs": [
    {
     "name": "stdout",
     "output_type": "stream",
     "text": [
      "              precision    recall  f1-score   support\n",
      "\n",
      "        spam       0.99      1.00      1.00      1448\n",
      "         ham       0.99      0.95      0.97       224\n",
      "\n",
      "    accuracy                           0.99      1672\n",
      "   macro avg       0.99      0.97      0.98      1672\n",
      "weighted avg       0.99      0.99      0.99      1672\n",
      "\n"
     ]
    }
   ],
   "source": [
    "from sklearn.metrics import classification_report\n",
    "target_names = ['spam','ham']\n",
    "print(classification_report(Y_test, result, target_names=target_names))"
   ]
  },
  {
   "cell_type": "code",
   "execution_count": 26,
   "id": "847f4807-b56e-4e01-bc98-d5bf4422cfb7",
   "metadata": {},
   "outputs": [
    {
     "data": {
      "image/png": "[encoded data removed]",
      "text/plain": [
       "<Figure size 640x480 with 2 Axes>"
      ]
     },
     "metadata": {},
     "output_type": "display_data"
    }
   ],
   "source": [
    "from sklearn.metrics import confusion_matrix,ConfusionMatrixDisplay\n",
    "cm = confusion_matrix(Y_test,result)\n",
    "classes = ['ham','spam']\n",
    "disp = ConfusionMatrixDisplay(confusion_matrix=cm,display_labels=classes)\n",
    "disp.plot()\n",
    "plt.show()"
   ]
  },
  {
   "cell_type": "code",
   "execution_count": 27,
   "id": "93e71c97-86a7-4155-828a-97315a2763cd",
   "metadata": {},
   "outputs": [
    {
     "name": "stdout",
     "output_type": "stream",
     "text": [
      "\u001b[1m1/1\u001b[0m \u001b[32m━━━━━━━━━━━━━━━━━━━━\u001b[0m\u001b[37m\u001b[0m \u001b[1m0s\u001b[0m 19ms/step\n",
      "Ham\n"
     ]
    }
   ],
   "source": [
    "testText=\"I‘m going to try for 2 months ha ha only joking\"\n",
    "predict_msg = [\"\tSIX chances to win CASH! From 100 to 20,000 pounds txt> CSH11 and send to 87575. Cost 150p/day, 6days, 16+ TsandCs apply Reply HL 4 info\"]\n",
    "def predict_spam(predict_msg, threshold=0.5):\n",
    "    new_seq = tokenizer.texts_to_sequences(predict_msg)\n",
    "    padded = pad_sequences(new_seq, maxlen=MAX_LEN)\n",
    "    predictions = model.predict(padded)\n",
    "    for pred in predictions:\n",
    "        if pred > threshold:\n",
    "            print(\"Spam\")\n",
    "        else:\n",
    "            print(\"Ham\")\n",
    "\n",
    "# Example usage\n",
    "predict_msg = [\"Your free trail is going to end, renew it\"]\n",
    "predict_spam(predict_msg)"
   ]
  },
  {
   "cell_type": "markdown",
   "id": "87ad708d-e200-42a6-a7de-611ee0055027",
   "metadata": {},
   "source": [
    "--------we can do this again with simple Bernoulli Naive Bayes-----------"
   ]
  },
  {
   "cell_type": "code",
   "execution_count": 28,
   "id": "d8885777-9a05-42ee-9397-1a2643e20943",
   "metadata": {},
   "outputs": [],
   "source": [
    "x=data['Message']\n",
    "y=data['Category']"
   ]
  },
  {
   "cell_type": "code",
   "execution_count": 29,
   "id": "7dcc01c3-1c5d-43aa-8b23-2e85eb8e1bab",
   "metadata": {},
   "outputs": [],
   "source": [
    "from sklearn.model_selection import train_test_split\n",
    "from sklearn.feature_extraction.text import CountVectorizer\n",
    "from sklearn.naive_bayes import BernoulliNB\n",
    "from sklearn.metrics import confusion_matrix,ConfusionMatrixDisplay"
   ]
  },
  {
   "cell_type": "code",
   "execution_count": 30,
   "id": "bec790d6-b74a-4334-9d34-d1c9273d8a32",
   "metadata": {},
   "outputs": [],
   "source": [
    "cv=CountVectorizer()\n",
    "x=cv.fit_transform(x)"
   ]
  },
  {
   "cell_type": "code",
   "execution_count": 31,
   "id": "cbe061ad-963d-4b37-96df-c7648f0dc8fd",
   "metadata": {},
   "outputs": [],
   "source": [
    "xtrain,xtest,ytrain,ytest=train_test_split(x,y,test_size=0.3,random_state=42)"
   ]
  },
  {
   "cell_type": "code",
   "execution_count": 32,
   "id": "c9f87208-ebb5-4e23-be32-a92f2378f79e",
   "metadata": {},
   "outputs": [
    {
     "data": {
      "text/html": [
       "<style>#sk-container-id-1 {\n",
       "  /* Definition of color scheme common for light and dark mode */\n",
       "  --sklearn-color-text: black;\n",
       "  --sklearn-color-line: gray;\n",
       "  /* Definition of color scheme for unfitted estimators */\n",
       "  --sklearn-color-unfitted-level-0: #fff5e6;\n",
       "  --sklearn-color-unfitted-level-1: #f6e4d2;\n",
       "  --sklearn-color-unfitted-level-2: #ffe0b3;\n",
       "  --sklearn-color-unfitted-level-3: chocolate;\n",
       "  /* Definition of color scheme for fitted estimators */\n",
       "  --sklearn-color-fitted-level-0: #f0f8ff;\n",
       "  --sklearn-color-fitted-level-1: #d4ebff;\n",
       "  --sklearn-color-fitted-level-2: #b3dbfd;\n",
       "  --sklearn-color-fitted-level-3: cornflowerblue;\n",
       "\n",
       "  /* Specific color for light theme */\n",
       "  --sklearn-color-text-on-default-background: var(--sg-text-color, var(--theme-code-foreground, var(--jp-content-font-color1, black)));\n",
       "  --sklearn-color-background: var(--sg-background-color, var(--theme-background, var(--jp-layout-color0, white)));\n",
       "  --sklearn-color-border-box: var(--sg-text-color, var(--theme-code-foreground, var(--jp-content-font-color1, black)));\n",
       "  --sklearn-color-icon: #696969;\n",
       "\n",
       "  @media (prefers-color-scheme: dark) {\n",
       "    /* Redefinition of color scheme for dark theme */\n",
       "    --sklearn-color-text-on-default-background: var(--sg-text-color, var(--theme-code-foreground, var(--jp-content-font-color1, white)));\n",
       "    --sklearn-color-background: var(--sg-background-color, var(--theme-background, var(--jp-layout-color0, #111)));\n",
       "    --sklearn-color-border-box: var(--sg-text-color, var(--theme-code-foreground, var(--jp-content-font-color1, white)));\n",
       "    --sklearn-color-icon: #878787;\n",
       "  }\n",
       "}\n",
       "\n",
       "#sk-container-id-1 {\n",
       "  color: var(--sklearn-color-text);\n",
       "}\n",
       "\n",
       "#sk-container-id-1 pre {\n",
       "  padding: 0;\n",
       "}\n",
       "\n",
       "#sk-container-id-1 input.sk-hidden--visually {\n",
       "  border: 0;\n",
       "  clip: rect(1px 1px 1px 1px);\n",
       "  clip: rect(1px, 1px, 1px, 1px);\n",
       "  height: 1px;\n",
       "  margin: -1px;\n",
       "  overflow: hidden;\n",
       "  padding: 0;\n",
       "  position: absolute;\n",
       "  width: 1px;\n",
       "}\n",
       "\n",
       "#sk-container-id-1 div.sk-dashed-wrapped {\n",
       "  border: 1px dashed var(--sklearn-color-line);\n",
       "  margin: 0 0.4em 0.5em 0.4em;\n",
       "  box-sizing: border-box;\n",
       "  padding-bottom: 0.4em;\n",
       "  background-color: var(--sklearn-color-background);\n",
       "}\n",
       "\n",
       "#sk-container-id-1 div.sk-container {\n",
       "  /* jupyter's `normalize.less` sets `[hidden] { display: none; }`\n",
       "     but bootstrap.min.css set `[hidden] { display: none !important; }`\n",
       "     so we also need the `!important` here to be able to override the\n",
       "     default hidden behavior on the sphinx rendered scikit-learn.org.\n",
       "     See: https://github.com/scikit-learn/scikit-learn/issues/21755 */\n",
       "  display: inline-block !important;\n",
       "  position: relative;\n",
       "}\n",
       "\n",
       "#sk-container-id-1 div.sk-text-repr-fallback {\n",
       "  display: none;\n",
       "}\n",
       "\n",
       "div.sk-parallel-item,\n",
       "div.sk-serial,\n",
       "div.sk-item {\n",
       "  /* draw centered vertical line to link estimators */\n",
       "  background-image: linear-gradient(var(--sklearn-color-text-on-default-background), var(--sklearn-color-text-on-default-background));\n",
       "  background-size: 2px 100%;\n",
       "  background-repeat: no-repeat;\n",
       "  background-position: center center;\n",
       "}\n",
       "\n",
       "/* Parallel-specific style estimator block */\n",
       "\n",
       "#sk-container-id-1 div.sk-parallel-item::after {\n",
       "  content: \"\";\n",
       "  width: 100%;\n",
       "  border-bottom: 2px solid var(--sklearn-color-text-on-default-background);\n",
       "  flex-grow: 1;\n",
       "}\n",
       "\n",
       "#sk-container-id-1 div.sk-parallel {\n",
       "  display: flex;\n",
       "  align-items: stretch;\n",
       "  justify-content: center;\n",
       "  background-color: var(--sklearn-color-background);\n",
       "  position: relative;\n",
       "}\n",
       "\n",
       "#sk-container-id-1 div.sk-parallel-item {\n",
       "  display: flex;\n",
       "  flex-direction: column;\n",
       "}\n",
       "\n",
       "#sk-container-id-1 div.sk-parallel-item:first-child::after {\n",
       "  align-self: flex-end;\n",
       "  width: 50%;\n",
       "}\n",
       "\n",
       "#sk-container-id-1 div.sk-parallel-item:last-child::after {\n",
       "  align-self: flex-start;\n",
       "  width: 50%;\n",
       "}\n",
       "\n",
       "#sk-container-id-1 div.sk-parallel-item:only-child::after {\n",
       "  width: 0;\n",
       "}\n",
       "\n",
       "/* Serial-specific style estimator block */\n",
       "\n",
       "#sk-container-id-1 div.sk-serial {\n",
       "  display: flex;\n",
       "  flex-direction: column;\n",
       "  align-items: center;\n",
       "  background-color: var(--sklearn-color-background);\n",
       "  padding-right: 1em;\n",
       "  padding-left: 1em;\n",
       "}\n",
       "\n",
       "\n",
       "/* Toggleable style: style used for estimator/Pipeline/ColumnTransformer box that is\n",
       "clickable and can be expanded/collapsed.\n",
       "- Pipeline and ColumnTransformer use this feature and define the default style\n",
       "- Estimators will overwrite some part of the style using the `sk-estimator` class\n",
       "*/\n",
       "\n",
       "/* Pipeline and ColumnTransformer style (default) */\n",
       "\n",
       "#sk-container-id-1 div.sk-toggleable {\n",
       "  /* Default theme specific background. It is overwritten whether we have a\n",
       "  specific estimator or a Pipeline/ColumnTransformer */\n",
       "  background-color: var(--sklearn-color-background);\n",
       "}\n",
       "\n",
       "/* Toggleable label */\n",
       "#sk-container-id-1 label.sk-toggleable__label {\n",
       "  cursor: pointer;\n",
       "  display: block;\n",
       "  width: 100%;\n",
       "  margin-bottom: 0;\n",
       "  padding: 0.5em;\n",
       "  box-sizing: border-box;\n",
       "  text-align: center;\n",
       "}\n",
       "\n",
       "#sk-container-id-1 label.sk-toggleable__label-arrow:before {\n",
       "  /* Arrow on the left of the label */\n",
       "  content: \"▸\";\n",
       "  float: left;\n",
       "  margin-right: 0.25em;\n",
       "  color: var(--sklearn-color-icon);\n",
       "}\n",
       "\n",
       "#sk-container-id-1 label.sk-toggleable__label-arrow:hover:before {\n",
       "  color: var(--sklearn-color-text);\n",
       "}\n",
       "\n",
       "/* Toggleable content - dropdown */\n",
       "\n",
       "#sk-container-id-1 div.sk-toggleable__content {\n",
       "  max-height: 0;\n",
       "  max-width: 0;\n",
       "  overflow: hidden;\n",
       "  text-align: left;\n",
       "  /* unfitted */\n",
       "  background-color: var(--sklearn-color-unfitted-level-0);\n",
       "}\n",
       "\n",
       "#sk-container-id-1 div.sk-toggleable__content.fitted {\n",
       "  /* fitted */\n",
       "  background-color: var(--sklearn-color-fitted-level-0);\n",
       "}\n",
       "\n",
       "#sk-container-id-1 div.sk-toggleable__content pre {\n",
       "  margin: 0.2em;\n",
       "  border-radius: 0.25em;\n",
       "  color: var(--sklearn-color-text);\n",
       "  /* unfitted */\n",
       "  background-color: var(--sklearn-color-unfitted-level-0);\n",
       "}\n",
       "\n",
       "#sk-container-id-1 div.sk-toggleable__content.fitted pre {\n",
       "  /* unfitted */\n",
       "  background-color: var(--sklearn-color-fitted-level-0);\n",
       "}\n",
       "\n",
       "#sk-container-id-1 input.sk-toggleable__control:checked~div.sk-toggleable__content {\n",
       "  /* Expand drop-down */\n",
       "  max-height: 200px;\n",
       "  max-width: 100%;\n",
       "  overflow: auto;\n",
       "}\n",
       "\n",
       "#sk-container-id-1 input.sk-toggleable__control:checked~label.sk-toggleable__label-arrow:before {\n",
       "  content: \"▾\";\n",
       "}\n",
       "\n",
       "/* Pipeline/ColumnTransformer-specific style */\n",
       "\n",
       "#sk-container-id-1 div.sk-label input.sk-toggleable__control:checked~label.sk-toggleable__label {\n",
       "  color: var(--sklearn-color-text);\n",
       "  background-color: var(--sklearn-color-unfitted-level-2);\n",
       "}\n",
       "\n",
       "#sk-container-id-1 div.sk-label.fitted input.sk-toggleable__control:checked~label.sk-toggleable__label {\n",
       "  background-color: var(--sklearn-color-fitted-level-2);\n",
       "}\n",
       "\n",
       "/* Estimator-specific style */\n",
       "\n",
       "/* Colorize estimator box */\n",
       "#sk-container-id-1 div.sk-estimator input.sk-toggleable__control:checked~label.sk-toggleable__label {\n",
       "  /* unfitted */\n",
       "  background-color: var(--sklearn-color-unfitted-level-2);\n",
       "}\n",
       "\n",
       "#sk-container-id-1 div.sk-estimator.fitted input.sk-toggleable__control:checked~label.sk-toggleable__label {\n",
       "  /* fitted */\n",
       "  background-color: var(--sklearn-color-fitted-level-2);\n",
       "}\n",
       "\n",
       "#sk-container-id-1 div.sk-label label.sk-toggleable__label,\n",
       "#sk-container-id-1 div.sk-label label {\n",
       "  /* The background is the default theme color */\n",
       "  color: var(--sklearn-color-text-on-default-background);\n",
       "}\n",
       "\n",
       "/* On hover, darken the color of the background */\n",
       "#sk-container-id-1 div.sk-label:hover label.sk-toggleable__label {\n",
       "  color: var(--sklearn-color-text);\n",
       "  background-color: var(--sklearn-color-unfitted-level-2);\n",
       "}\n",
       "\n",
       "/* Label box, darken color on hover, fitted */\n",
       "#sk-container-id-1 div.sk-label.fitted:hover label.sk-toggleable__label.fitted {\n",
       "  color: var(--sklearn-color-text);\n",
       "  background-color: var(--sklearn-color-fitted-level-2);\n",
       "}\n",
       "\n",
       "/* Estimator label */\n",
       "\n",
       "#sk-container-id-1 div.sk-label label {\n",
       "  font-family: monospace;\n",
       "  font-weight: bold;\n",
       "  display: inline-block;\n",
       "  line-height: 1.2em;\n",
       "}\n",
       "\n",
       "#sk-container-id-1 div.sk-label-container {\n",
       "  text-align: center;\n",
       "}\n",
       "\n",
       "/* Estimator-specific */\n",
       "#sk-container-id-1 div.sk-estimator {\n",
       "  font-family: monospace;\n",
       "  border: 1px dotted var(--sklearn-color-border-box);\n",
       "  border-radius: 0.25em;\n",
       "  box-sizing: border-box;\n",
       "  margin-bottom: 0.5em;\n",
       "  /* unfitted */\n",
       "  background-color: var(--sklearn-color-unfitted-level-0);\n",
       "}\n",
       "\n",
       "#sk-container-id-1 div.sk-estimator.fitted {\n",
       "  /* fitted */\n",
       "  background-color: var(--sklearn-color-fitted-level-0);\n",
       "}\n",
       "\n",
       "/* on hover */\n",
       "#sk-container-id-1 div.sk-estimator:hover {\n",
       "  /* unfitted */\n",
       "  background-color: var(--sklearn-color-unfitted-level-2);\n",
       "}\n",
       "\n",
       "#sk-container-id-1 div.sk-estimator.fitted:hover {\n",
       "  /* fitted */\n",
       "  background-color: var(--sklearn-color-fitted-level-2);\n",
       "}\n",
       "\n",
       "/* Specification for estimator info (e.g. \"i\" and \"?\") */\n",
       "\n",
       "/* Common style for \"i\" and \"?\" */\n",
       "\n",
       ".sk-estimator-doc-link,\n",
       "a:link.sk-estimator-doc-link,\n",
       "a:visited.sk-estimator-doc-link {\n",
       "  float: right;\n",
       "  font-size: smaller;\n",
       "  line-height: 1em;\n",
       "  font-family: monospace;\n",
       "  background-color: var(--sklearn-color-background);\n",
       "  border-radius: 1em;\n",
       "  height: 1em;\n",
       "  width: 1em;\n",
       "  text-decoration: none !important;\n",
       "  margin-left: 1ex;\n",
       "  /* unfitted */\n",
       "  border: var(--sklearn-color-unfitted-level-1) 1pt solid;\n",
       "  color: var(--sklearn-color-unfitted-level-1);\n",
       "}\n",
       "\n",
       ".sk-estimator-doc-link.fitted,\n",
       "a:link.sk-estimator-doc-link.fitted,\n",
       "a:visited.sk-estimator-doc-link.fitted {\n",
       "  /* fitted */\n",
       "  border: var(--sklearn-color-fitted-level-1) 1pt solid;\n",
       "  color: var(--sklearn-color-fitted-level-1);\n",
       "}\n",
       "\n",
       "/* On hover */\n",
       "div.sk-estimator:hover .sk-estimator-doc-link:hover,\n",
       ".sk-estimator-doc-link:hover,\n",
       "div.sk-label-container:hover .sk-estimator-doc-link:hover,\n",
       ".sk-estimator-doc-link:hover {\n",
       "  /* unfitted */\n",
       "  background-color: var(--sklearn-color-unfitted-level-3);\n",
       "  color: var(--sklearn-color-background);\n",
       "  text-decoration: none;\n",
       "}\n",
       "\n",
       "div.sk-estimator.fitted:hover .sk-estimator-doc-link.fitted:hover,\n",
       ".sk-estimator-doc-link.fitted:hover,\n",
       "div.sk-label-container:hover .sk-estimator-doc-link.fitted:hover,\n",
       ".sk-estimator-doc-link.fitted:hover {\n",
       "  /* fitted */\n",
       "  background-color: var(--sklearn-color-fitted-level-3);\n",
       "  color: var(--sklearn-color-background);\n",
       "  text-decoration: none;\n",
       "}\n",
       "\n",
       "/* Span, style for the box shown on hovering the info icon */\n",
       ".sk-estimator-doc-link span {\n",
       "  display: none;\n",
       "  z-index: 9999;\n",
       "  position: relative;\n",
       "  font-weight: normal;\n",
       "  right: .2ex;\n",
       "  padding: .5ex;\n",
       "  margin: .5ex;\n",
       "  width: min-content;\n",
       "  min-width: 20ex;\n",
       "  max-width: 50ex;\n",
       "  color: var(--sklearn-color-text);\n",
       "  box-shadow: 2pt 2pt 4pt #999;\n",
       "  /* unfitted */\n",
       "  background: var(--sklearn-color-unfitted-level-0);\n",
       "  border: .5pt solid var(--sklearn-color-unfitted-level-3);\n",
       "}\n",
       "\n",
       ".sk-estimator-doc-link.fitted span {\n",
       "  /* fitted */\n",
       "  background: var(--sklearn-color-fitted-level-0);\n",
       "  border: var(--sklearn-color-fitted-level-3);\n",
       "}\n",
       "\n",
       ".sk-estimator-doc-link:hover span {\n",
       "  display: block;\n",
       "}\n",
       "\n",
       "/* \"?\"-specific style due to the `<a>` HTML tag */\n",
       "\n",
       "#sk-container-id-1 a.estimator_doc_link {\n",
       "  float: right;\n",
       "  font-size: 1rem;\n",
       "  line-height: 1em;\n",
       "  font-family: monospace;\n",
       "  background-color: var(--sklearn-color-background);\n",
       "  border-radius: 1rem;\n",
       "  height: 1rem;\n",
       "  width: 1rem;\n",
       "  text-decoration: none;\n",
       "  /* unfitted */\n",
       "  color: var(--sklearn-color-unfitted-level-1);\n",
       "  border: var(--sklearn-color-unfitted-level-1) 1pt solid;\n",
       "}\n",
       "\n",
       "#sk-container-id-1 a.estimator_doc_link.fitted {\n",
       "  /* fitted */\n",
       "  border: var(--sklearn-color-fitted-level-1) 1pt solid;\n",
       "  color: var(--sklearn-color-fitted-level-1);\n",
       "}\n",
       "\n",
       "/* On hover */\n",
       "#sk-container-id-1 a.estimator_doc_link:hover {\n",
       "  /* unfitted */\n",
       "  background-color: var(--sklearn-color-unfitted-level-3);\n",
       "  color: var(--sklearn-color-background);\n",
       "  text-decoration: none;\n",
       "}\n",
       "\n",
       "#sk-container-id-1 a.estimator_doc_link.fitted:hover {\n",
       "  /* fitted */\n",
       "  background-color: var(--sklearn-color-fitted-level-3);\n",
       "}\n",
       "</style><div id=\"sk-container-id-1\" class=\"sk-top-container\"><div class=\"sk-text-repr-fallback\"><pre>BernoulliNB()</pre><b>In a Jupyter environment, please rerun this cell to show the HTML representation or trust the notebook. <br />On GitHub, the HTML representation is unable to render, please try loading this page with nbviewer.org.</b></div><div class=\"sk-container\" hidden><div class=\"sk-item\"><div class=\"sk-estimator fitted sk-toggleable\"><input class=\"sk-toggleable__control sk-hidden--visually\" id=\"sk-estimator-id-1\" type=\"checkbox\" checked><label for=\"sk-estimator-id-1\" class=\"sk-toggleable__label fitted sk-toggleable__label-arrow fitted\">&nbsp;&nbsp;BernoulliNB<a class=\"sk-estimator-doc-link fitted\" rel=\"noreferrer\" target=\"_blank\" href=\"https://scikit-learn.org/1.4/modules/generated/sklearn.naive_bayes.BernoulliNB.html\">?<span>Documentation for BernoulliNB</span></a><span class=\"sk-estimator-doc-link fitted\">i<span>Fitted</span></span></label><div class=\"sk-toggleable__content fitted\"><pre>BernoulliNB()</pre></div> </div></div></div></div>"
      ],
      "text/plain": [
       "BernoulliNB()"
      ]
     },
     "execution_count": 32,
     "metadata": {},
     "output_type": "execute_result"
    }
   ],
   "source": [
    "model=BernoulliNB()\n",
    "model.fit(xtrain,ytrain)"
   ]
  },
  {
   "cell_type": "code",
   "execution_count": 33,
   "id": "be4d6841-c0b9-4527-9dc0-ebb30874a7be",
   "metadata": {},
   "outputs": [],
   "source": [
    "ypred=model.predict(xtest)"
   ]
  },
  {
   "cell_type": "code",
   "execution_count": 34,
   "id": "f44e222d-4f68-4ad0-939d-ff1f926f6822",
   "metadata": {},
   "outputs": [
    {
     "data": {
      "text/plain": [
       "<sklearn.metrics._plot.confusion_matrix.ConfusionMatrixDisplay at 0x26adec901f0>"
      ]
     },
     "execution_count": 34,
     "metadata": {},
     "output_type": "execute_result"
    },
    {
     "data": {
      "image/png": "[encoded data removed]",
      "text/plain": [
       "<Figure size 640x480 with 1 Axes>"
      ]
     },
     "metadata": {},
     "output_type": "display_data"
    }
   ],
   "source": [
    "cm=confusion_matrix(ytest,ypred)\n",
    "classes = ['ham','spam']\n",
    "ConfusionMatrixDisplay(cm,display_labels=classes).plot(colorbar=False)"
   ]
  },
  {
   "cell_type": "markdown",
   "id": "3e933bd2-fe52-46b5-abc0-6cf74b19a64d",
   "metadata": {},
   "source": [
    "-------below using decision tree-------------------"
   ]
  },
  {
   "cell_type": "code",
   "execution_count": 35,
   "id": "625a1a3f-18d3-457e-b5f9-3806a55ad1fe",
   "metadata": {},
   "outputs": [],
   "source": [
    "from sklearn.tree import DecisionTreeClassifier"
   ]
  },
  {
   "cell_type": "code",
   "execution_count": 36,
   "id": "a0b83c3a-7e8c-43e8-ae84-20b0e922ca28",
   "metadata": {},
   "outputs": [],
   "source": [
    "treeModel=DecisionTreeClassifier()\n",
    "treeModel.fit(xtrain,ytrain)\n",
    "ypred=treeModel.predict(xtest)"
   ]
  },
  {
   "cell_type": "code",
   "execution_count": 37,
   "id": "112e46ca-d3fe-47ac-b1ec-de9fe6be9602",
   "metadata": {},
   "outputs": [
    {
     "data": {
      "text/plain": [
       "<sklearn.metrics._plot.confusion_matrix.ConfusionMatrixDisplay at 0x26ace816a40>"
      ]
     },
     "execution_count": 37,
     "metadata": {},
     "output_type": "execute_result"
    },
    {
     "data": {
      "image/png": "[encoded data removed]",
      "text/plain": [
       "<Figure size 640x480 with 1 Axes>"
      ]
     },
     "metadata": {},
     "output_type": "display_data"
    }
   ],
   "source": [
    "cm=confusion_matrix(ytest,ypred)\n",
    "classes = ['ham','spam']\n",
    "ConfusionMatrixDisplay(cm,display_labels=classes).plot(colorbar=False)"
   ]
  },
  {
   "cell_type": "markdown",
   "id": "1fa5d6cc-049a-4cd8-b228-72314a7051f2",
   "metadata": {},
   "source": [
    "-------------------below use random forest--------------------------------"
   ]
  },
  {
   "cell_type": "code",
   "execution_count": 38,
   "id": "9a35fa30-3609-4d9b-9229-5d65456a086c",
   "metadata": {},
   "outputs": [],
   "source": [
    "from sklearn.ensemble import RandomForestClassifier"
   ]
  },
  {
   "cell_type": "code",
   "execution_count": 39,
   "id": "77df9cc1-e003-4096-b0a5-ac0f6041a4ba",
   "metadata": {},
   "outputs": [
    {
     "data": {
      "text/plain": [
       "<sklearn.metrics._plot.confusion_matrix.ConfusionMatrixDisplay at 0x26ace816ad0>"
      ]
     },
     "execution_count": 39,
     "metadata": {},
     "output_type": "execute_result"
    },
    {
     "data": {
      "image/png": "[encoded data removed]",
      "text/plain": [
       "<Figure size 640x480 with 1 Axes>"
      ]
     },
     "metadata": {},
     "output_type": "display_data"
    }
   ],
   "source": [
    "forestModel=RandomForestClassifier()\n",
    "forestModel.fit(xtrain,ytrain)\n",
    "ypred=forestModel.predict(xtest)\n",
    "cm=confusion_matrix(ytest,ypred)\n",
    "classes = ['ham','spam']\n",
    "ConfusionMatrixDisplay(cm,display_labels=classes).plot(colorbar=False)"
   ]
  },
  {
   "cell_type": "markdown",
   "id": "24b7c7f8-2a67-4e29-8642-700730c2e212",
   "metadata": {},
   "source": [
    "------------------------below use XGBoost---------------------------------------------"
   ]
  },
  {
   "cell_type": "code",
   "execution_count": 40,
   "id": "cf956e9d-976e-4216-a889-df3a2d3d089d",
   "metadata": {},
   "outputs": [],
   "source": [
    "from xgboost import XGBClassifier"
   ]
  },
  {
   "cell_type": "code",
   "execution_count": 41,
   "id": "0a8c4b6a-8c91-492d-82a8-b3e90a757d91",
   "metadata": {},
   "outputs": [
    {
     "data": {
      "text/plain": [
       "<sklearn.metrics._plot.confusion_matrix.ConfusionMatrixDisplay at 0x26adf0451b0>"
      ]
     },
     "execution_count": 41,
     "metadata": {},
     "output_type": "execute_result"
    },
    {
     "data": {
      "image/png": "[encoded data removed]",
      "text/plain": [
       "<Figure size 640x480 with 1 Axes>"
      ]
     },
     "metadata": {},
     "output_type": "display_data"
    }
   ],
   "source": [
    "xgbModel=XGBClassifier()\n",
    "xgbModel.fit(xtrain,ytrain)\n",
    "ypred=xgbModel.predict(xtest)\n",
    "cm=confusion_matrix(ytest,ypred)\n",
    "classes = ['ham','spam']\n",
    "cmd=ConfusionMatrixDisplay(cm,display_labels=classes)\n",
    "cmd.plot(colorbar=False)"
   ]
  },
  {
   "cell_type": "code",
   "execution_count": null,
   "id": "49c1889c-9e45-4d5a-8700-faf247c2d14b",
   "metadata": {},
   "outputs": [],
   "source": []
  }
 ],
 "metadata": {
  "kernelspec": {
   "display_name": "Python 3 (ipykernel)",
   "language": "python",
   "name": "python3"
  },
  "language_info": {
   "codemirror_mode": {
    "name": "ipython",
    "version": 3
   },
   "file_extension": ".py",
   "mimetype": "text/x-python",
   "name": "python",
   "nbconvert_exporter": "python",
   "pygments_lexer": "ipython3",
   "version": "3.10.13"
  }
 },
 "nbformat": 4,
 "nbformat_minor": 5
}
